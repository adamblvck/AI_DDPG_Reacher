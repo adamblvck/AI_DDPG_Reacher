{
 "cells": [
  {
   "cell_type": "markdown",
   "metadata": {},
   "source": [
    "# Continuous Control\n",
    "\n",
    "---\n",
    "\n",
    "In this notebook, you will learn how to use the Unity ML-Agents environment for the second project of the [Deep Reinforcement Learning Nanodegree](https://www.udacity.com/course/deep-reinforcement-learning-nanodegree--nd893) program.\n",
    "\n",
    "### 1. Start the Environment\n",
    "\n",
    "We begin by importing the necessary packages.  If the code cell below returns an error, please revisit the project instructions to double-check that you have installed [Unity ML-Agents](https://github.com/Unity-Technologies/ml-agents/blob/master/docs/Installation.md) and [NumPy](http://www.numpy.org/)."
   ]
  },
  {
   "cell_type": "code",
   "execution_count": 1,
   "metadata": {},
   "outputs": [],
   "source": [
    "from unityagents import UnityEnvironment\n",
    "import numpy as np\n",
    "from collections import namedtuple, deque"
   ]
  },
  {
   "cell_type": "code",
   "execution_count": null,
   "metadata": {},
   "outputs": [],
   "source": [
    "%load_ext autoreload\n",
    "%autoreload 2"
   ]
  },
  {
   "cell_type": "code",
   "execution_count": 2,
   "metadata": {},
   "outputs": [
    {
     "name": "stdout",
     "output_type": "stream",
     "text": [
      "Successfully logged in to Weights & Biases!\n"
     ]
    },
    {
     "name": "stderr",
     "output_type": "stream",
     "text": [
      "wandb: Appending key for api.wandb.ai to your netrc file: C:\\Users\\Adam/.netrc\n"
     ]
    }
   ],
   "source": [
    "!wandb login xyz"
   ]
  },
  {
   "cell_type": "markdown",
   "metadata": {},
   "source": [
    "Next, we will start the environment!  **_Before running the code cell below_**, change the `file_name` parameter to match the location of the Unity environment that you downloaded.\n",
    "\n",
    "- **Mac**: `\"path/to/Reacher.app\"`\n",
    "- **Windows** (x86): `\"path/to/Reacher_Windows_x86/Reacher.exe\"`\n",
    "- **Windows** (x86_64): `\"path/to/Reacher_Windows_x86_64/Reacher.exe\"`\n",
    "- **Linux** (x86): `\"path/to/Reacher_Linux/Reacher.x86\"`\n",
    "- **Linux** (x86_64): `\"path/to/Reacher_Linux/Reacher.x86_64\"`\n",
    "- **Linux** (x86, headless): `\"path/to/Reacher_Linux_NoVis/Reacher.x86\"`\n",
    "- **Linux** (x86_64, headless): `\"path/to/Reacher_Linux_NoVis/Reacher.x86_64\"`\n",
    "\n",
    "For instance, if you are using a Mac, then you downloaded `Reacher.app`.  If this file is in the same folder as the notebook, then the line below should appear as follows:\n",
    "```\n",
    "env = UnityEnvironment(file_name=\"Reacher.app\")\n",
    "```"
   ]
  },
  {
   "cell_type": "code",
   "execution_count": 3,
   "metadata": {},
   "outputs": [
    {
     "name": "stderr",
     "output_type": "stream",
     "text": [
      "INFO:unityagents:\n",
      "'Academy' started successfully!\n",
      "Unity Academy name: Academy\n",
      "        Number of Brains: 1\n",
      "        Number of External Brains : 1\n",
      "        Lesson number : 0\n",
      "        Reset Parameters :\n",
      "\t\tgoal_speed -> 1.0\n",
      "\t\tgoal_size -> 5.0\n",
      "Unity brain name: ReacherBrain\n",
      "        Number of Visual Observations (per agent): 0\n",
      "        Vector Observation space type: continuous\n",
      "        Vector Observation space size (per agent): 33\n",
      "        Number of stacked Vector Observation: 1\n",
      "        Vector Action space type: continuous\n",
      "        Vector Action space size (per agent): 4\n",
      "        Vector Action descriptions: , , , \n"
     ]
    }
   ],
   "source": [
    "env = UnityEnvironment(file_name='./reacher/Reacher.exe')"
   ]
  },
  {
   "cell_type": "markdown",
   "metadata": {},
   "source": [
    "Environments contain **_brains_** which are responsible for deciding the actions of their associated agents. Here we check for the first brain available, and set it as the default brain we will be controlling from Python."
   ]
  },
  {
   "cell_type": "code",
   "execution_count": 4,
   "metadata": {},
   "outputs": [],
   "source": [
    "# get the default brain\n",
    "brain_name = env.brain_names[0]\n",
    "brain = env.brains[brain_name]"
   ]
  },
  {
   "cell_type": "markdown",
   "metadata": {},
   "source": [
    "### 2. Examine the State and Action Spaces\n",
    "\n",
    "In this environment, a double-jointed arm can move to target locations. A reward of `+0.1` is provided for each step that the agent's hand is in the goal location. Thus, the goal of your agent is to maintain its position at the target location for as many time steps as possible.\n",
    "\n",
    "The observation space consists of `33` variables corresponding to position, rotation, velocity, and angular velocities of the arm.  Each action is a vector with four numbers, corresponding to torque applicable to two joints.  Every entry in the action vector must be a number between `-1` and `1`.\n",
    "\n",
    "Run the code cell below to print some information about the environment."
   ]
  },
  {
   "cell_type": "code",
   "execution_count": 5,
   "metadata": {},
   "outputs": [
    {
     "name": "stdout",
     "output_type": "stream",
     "text": [
      "Number of agents: 20\n",
      "Size of each action: 4\n",
      "There are 20 agents. Each observes a state with length: 33\n",
      "The state for the first agent looks like: [ 0.00000000e+00 -4.00000000e+00  0.00000000e+00  1.00000000e+00\n",
      " -0.00000000e+00 -0.00000000e+00 -4.37113883e-08  0.00000000e+00\n",
      "  0.00000000e+00  0.00000000e+00  0.00000000e+00  0.00000000e+00\n",
      "  0.00000000e+00  0.00000000e+00 -1.00000000e+01  0.00000000e+00\n",
      "  1.00000000e+00 -0.00000000e+00 -0.00000000e+00 -4.37113883e-08\n",
      "  0.00000000e+00  0.00000000e+00  0.00000000e+00  0.00000000e+00\n",
      "  0.00000000e+00  0.00000000e+00  5.75471878e+00 -1.00000000e+00\n",
      "  5.55726624e+00  0.00000000e+00  1.00000000e+00  0.00000000e+00\n",
      " -1.68164849e-01]\n"
     ]
    }
   ],
   "source": [
    "# reset the environment\n",
    "env_info = env.reset(train_mode=True)[brain_name]\n",
    "\n",
    "# number of agents\n",
    "num_agents = len(env_info.agents)\n",
    "print('Number of agents:', num_agents)\n",
    "\n",
    "# size of each action\n",
    "action_size = brain.vector_action_space_size\n",
    "print('Size of each action:', action_size)\n",
    "\n",
    "# examine the state space \n",
    "states = env_info.vector_observations\n",
    "state_size = states.shape[1]\n",
    "print('There are {} agents. Each observes a state with length: {}'.format(states.shape[0], state_size))\n",
    "print('The state for the first agent looks like:', states[0])"
   ]
  },
  {
   "cell_type": "markdown",
   "metadata": {},
   "source": [
    "## Init AI"
   ]
  },
  {
   "cell_type": "code",
   "execution_count": null,
   "metadata": {},
   "outputs": [],
   "source": []
  },
  {
   "cell_type": "markdown",
   "metadata": {},
   "source": [
    "New run ..."
   ]
  },
  {
   "cell_type": "markdown",
   "metadata": {},
   "source": [
    "Hyper parameters..."
   ]
  },
  {
   "cell_type": "code",
   "execution_count": 53,
   "metadata": {},
   "outputs": [
    {
     "data": {
      "text/html": [
       "\n",
       "                Logging results to <a href=\"https://wandb.com\" target=\"_blank\">Weights & Biases</a> <a href=\"https://docs.wandb.com/integrations/jupyter.html\" target=\"_blank\">(Documentation)</a>.<br/>\n",
       "                Project page: <a href=\"https://app.wandb.ai/adam_blvck/reacher_ddpg_continuous_control\" target=\"_blank\">https://app.wandb.ai/adam_blvck/reacher_ddpg_continuous_control</a><br/>\n",
       "                Run page: <a href=\"https://app.wandb.ai/adam_blvck/reacher_ddpg_continuous_control/runs/rz0f5h3z\" target=\"_blank\">https://app.wandb.ai/adam_blvck/reacher_ddpg_continuous_control/runs/rz0f5h3z</a><br/>\n",
       "            "
      ],
      "text/plain": [
       "<IPython.core.display.HTML object>"
      ]
     },
     "metadata": {},
     "output_type": "display_data"
    },
    {
     "name": "stderr",
     "output_type": "stream",
     "text": [
      "INFO:wandb.run_manager:system metrics and metadata threads started\n",
      "INFO:wandb.run_manager:checking resume status, waiting at most 10 seconds\n",
      "INFO:wandb.run_manager:resuming run from id: UnVuOnYxOnJ6MGY1aDN6OnJlYWNoZXJfZGRwZ19jb250aW51b3VzX2NvbnRyb2w6YWRhbV9ibHZjaw==\n",
      "INFO:wandb.run_manager:upserting run before process can begin, waiting at most 10 seconds\n",
      "INFO:wandb.run_manager:file/dir modified: D:\\Code\\DRL_udacity\\deep-reinforcement-learning\\p2_continuous-control\\wandb\\run-20191120_144308-rz0f5h3z\\config.yaml\n",
      "INFO:wandb.run_manager:saving patches\n",
      "INFO:wandb.run_manager:saving pip packages\n",
      "INFO:wandb.run_manager:initializing streaming files api\n",
      "INFO:wandb.run_manager:unblocking file change observer, beginning sync with W&B servers\n"
     ]
    },
    {
     "data": {
      "text/plain": [
       "W&B Run: https://app.wandb.ai/adam_blvck/reacher_ddpg_continuous_control/runs/rz0f5h3z"
      ]
     },
     "execution_count": 53,
     "metadata": {},
     "output_type": "execute_result"
    },
    {
     "name": "stderr",
     "output_type": "stream",
     "text": [
      "INFO:wandb.run_manager:shutting down system stats and metadata service\n",
      "INFO:wandb.run_manager:file/dir created: D:\\Code\\DRL_udacity\\deep-reinforcement-learning\\p2_continuous-control\\wandb\\run-20191120_144308-rz0f5h3z\\wandb-metadata.json\n",
      "INFO:wandb.run_manager:file/dir created: D:\\Code\\DRL_udacity\\deep-reinforcement-learning\\p2_continuous-control\\wandb\\run-20191120_144308-rz0f5h3z\\wandb-history.jsonl\n",
      "INFO:wandb.run_manager:file/dir created: D:\\Code\\DRL_udacity\\deep-reinforcement-learning\\p2_continuous-control\\wandb\\run-20191120_144308-rz0f5h3z\\wandb-summary.json\n",
      "INFO:wandb.run_manager:file/dir created: D:\\Code\\DRL_udacity\\deep-reinforcement-learning\\p2_continuous-control\\wandb\\run-20191120_144308-rz0f5h3z\\wandb-events.jsonl\n",
      "INFO:wandb.run_manager:file/dir modified: D:\\Code\\DRL_udacity\\deep-reinforcement-learning\\p2_continuous-control\\wandb\\run-20191120_144308-rz0f5h3z\\wandb-events.jsonl\n",
      "INFO:wandb.run_manager:file/dir created: D:\\Code\\DRL_udacity\\deep-reinforcement-learning\\p2_continuous-control\\wandb\\run-20191120_144308-rz0f5h3z\\requirements.txt\n",
      "INFO:wandb.run_manager:file/dir created: D:\\Code\\DRL_udacity\\deep-reinforcement-learning\\p2_continuous-control\\wandb\\run-20191120_144308-rz0f5h3z\\diff.patch\n",
      "INFO:wandb.run_manager:stopping streaming files and file change observer\n",
      "INFO:wandb.run_manager:file/dir modified: D:\\Code\\DRL_udacity\\deep-reinforcement-learning\\p2_continuous-control\\wandb\\run-20191120_144308-rz0f5h3z\\wandb-metadata.json\n"
     ]
    }
   ],
   "source": [
    "import wandb\n",
    "\n",
    "BUFFER_SIZE = int(1e5)  # replay buffer size\n",
    "BATCH_SIZE = 512        # minibatch size\n",
    "GAMMA = 0.99            # discount factor\n",
    "TAU = 1e-3              # for soft update of target parameters\n",
    "LR_ACTOR = 1e-3         # learning rate of the actor \n",
    "LR_CRITIC = 1e-3        # learning rate of the critic\n",
    "WEIGHT_DECAY = 0.0   # L2 weight decay\n",
    "OU_SIGMA = 0.20\n",
    "OU_THETA = 0.15\n",
    "LEARN_INTERVAL = 6\n",
    "LEARN_NUM = 2\n",
    "\n",
    "config = {\n",
    "    \"BUFFER_SIZE\": BUFFER_SIZE,\n",
    "    \"BATCH_SIZE\": BATCH_SIZE,\n",
    "    \"GAMMA\": GAMMA,\n",
    "    \"TAU\": TAU,\n",
    "    \"LR_ACTOR\": LR_ACTOR,\n",
    "    \"LR_CRITIC\": LR_CRITIC,\n",
    "    \"WEIGHT_DECAY\": WEIGHT_DECAY,\n",
    "    \"OU_SIGMA\": OU_SIGMA,\n",
    "    \"OU_THETA\" : OU_THETA,\n",
    "    \"LEARN_INTERVAL\": LEARN_INTERVAL,\n",
    "    \"LEARN_NUM\": LEARN_NUM\n",
    "}\n",
    "wandb.init(config=config, project=\"reacher_ddpg_continuous_control\")"
   ]
  },
  {
   "cell_type": "markdown",
   "metadata": {},
   "source": [
    "Device..."
   ]
  },
  {
   "cell_type": "code",
   "execution_count": 54,
   "metadata": {},
   "outputs": [],
   "source": [
    "import torch\n",
    "from ddpg_agent import Agent"
   ]
  },
  {
   "cell_type": "code",
   "execution_count": 55,
   "metadata": {},
   "outputs": [
    {
     "data": {
      "text/plain": [
       "device(type='cuda', index=0)"
      ]
     },
     "execution_count": 55,
     "metadata": {},
     "output_type": "execute_result"
    }
   ],
   "source": [
    "device = torch.device(\"cuda:0\" if torch.cuda.is_available() else \"cpu\")\n",
    "device"
   ]
  },
  {
   "cell_type": "markdown",
   "metadata": {},
   "source": [
    "Create AI agent..."
   ]
  },
  {
   "cell_type": "code",
   "execution_count": 57,
   "metadata": {},
   "outputs": [
    {
     "data": {
      "text/plain": [
       "[<wandb.wandb_torch.TorchGraph at 0x163a71b6320>]"
      ]
     },
     "execution_count": 57,
     "metadata": {},
     "output_type": "execute_result"
    }
   ],
   "source": [
    "agent = Agent( device, state_size, num_agents, action_size, 1, \\\n",
    "                BUFFER_SIZE, BATCH_SIZE, GAMMA, TAU, LR_ACTOR, LR_CRITIC, WEIGHT_DECAY, \\\n",
    "                 LEARN_INTERVAL, LEARN_NUM, OU_SIGMA, OU_THETA)\n",
    "\n",
    "wandb.watch(agent.actor_local)\n",
    "wandb.watch(agent.critic_local)"
   ]
  },
  {
   "cell_type": "markdown",
   "metadata": {},
   "source": [
    "## Train AI"
   ]
  },
  {
   "cell_type": "code",
   "execution_count": 58,
   "metadata": {},
   "outputs": [],
   "source": [
    "def save_agent(agent, checkpoint_name):\n",
    "    torch.save(agent.actor_local.state_dict(), checkpoint_name+'_actor.pth')\n",
    "    torch.save(agent.critic_local.state_dict(), checkpoint_name+'_critic.pth')\n",
    "\n",
    "def load_agent(agent, checkpoint_name):\n",
    "    agent.actor_local.load_state_dict(torch.load(checkpoint_name+'_actor.pth'))\n",
    "    agent.critic_local.load_state_dict(torch.load(checkpoint_name+'_critic.pth'))\n",
    "    \n",
    "def train_ddpg(n_episodes=2000, max_t=1000, checkpoint_name='checkpoint'):\n",
    "    scores = []\n",
    "    scores_window = deque(maxlen=100)\n",
    "    max_score = np.Inf\n",
    "    \n",
    "    for i_episode in range(1, n_episodes+1):\n",
    "        \n",
    "        # reset => env, agent, score\n",
    "        env_info = env.reset(train_mode=True)[brain_name]\n",
    "        states = env_info.vector_observations\n",
    "        agent.reset()\n",
    "        score = np.zeros(num_agents)\n",
    "        \n",
    "        # run for maxt_ time (or when `done` is reached)\n",
    "        # - Agent decides action - agent.act\n",
    "        # - Environement accepts action - env.step\n",
    "        # - Agent is informed about taken action - agent.step\n",
    "        for t in range(max_t):\n",
    "            \n",
    "            # Mr AI, what action should we take?\n",
    "            actions = agent.act(states)\n",
    "            \n",
    "            # Take the action in the environment\n",
    "            env_info = env.step(actions)[brain_name]\n",
    "            next_states = env_info.vector_observations\n",
    "            rewards = env_info.rewards\n",
    "            dones = env_info.local_done\n",
    "            \n",
    "            # Mr AI, if you choose to accept (for every human instance)\n",
    "            agent.step(t, states, actions, rewards, next_states, dones)\n",
    "            \n",
    "            # Loop around & keep track of score\n",
    "            states = next_states\n",
    "            score += rewards\n",
    "            \n",
    "            if np.any(dones): # if any agent is at it's completion\n",
    "                break\n",
    "                \n",
    "        # log\n",
    "        scores_window.append(np.mean(score))\n",
    "        scores.append(np.mean(score))\n",
    "        \n",
    "        # log avg score for this episode across agents\n",
    "        wandb.log({\"mean_score\": np.mean(score)})\n",
    "        avg_score = np.mean(scores_window)\n",
    "        print('\\rEpisode {}\\tAverage Score: {:.2f}\\tScore: {:.2f}'.format(i_episode, \\\n",
    "                                                                          np.mean(scores_window), \\\n",
    "                                                                          np.mean(score) ,\\\n",
    "                                                                          end=\"\"))\n",
    "        \n",
    "        # log avg score in last 100 episodes\n",
    "        if i_episode % 20 == 0 or avg_score > 30.0:\n",
    "            save_agent(agent, checkpoint_name)\n",
    "            wandb.log({\"window_score\": np.mean(scores_window)})\n",
    "            print('\\rEpisode {}\\tAverage Score: {:.2f}'.format(i_episode, np.mean(scores_window)))   \n",
    "        \n",
    "        if avg_score >= 31.0:\n",
    "            print('\\nEnvironment solved in {:d} episodes!\\tAverage score: {:.2f}'.format(i_episode, average_score))\n",
    "            break\n",
    "        \n",
    "    return scores"
   ]
  },
  {
   "cell_type": "code",
   "execution_count": 59,
   "metadata": {
    "jupyter": {
     "outputs_hidden": true
    },
    "scrolled": true
   },
   "outputs": [
    {
     "name": "stderr",
     "output_type": "stream",
     "text": [
      "INFO:wandb.run_manager:system metrics and metadata threads started\n",
      "INFO:wandb.run_manager:checking resume status, waiting at most 10 seconds\n",
      "INFO:wandb.run_manager:resuming run from id: UnVuOnYxOnJ6MGY1aDN6OnJlYWNoZXJfZGRwZ19jb250aW51b3VzX2NvbnRyb2w6YWRhbV9ibHZjaw==\n",
      "INFO:wandb.run_manager:upserting run before process can begin, waiting at most 10 seconds\n",
      "INFO:wandb.run_manager:saving patches\n",
      "INFO:wandb.run_manager:file/dir modified: D:\\Code\\DRL_udacity\\deep-reinforcement-learning\\p2_continuous-control\\wandb\\run-20191120_144308-rz0f5h3z\\wandb-history.jsonl\n",
      "INFO:wandb.run_manager:saving pip packages\n",
      "INFO:wandb.run_manager:initializing streaming files api\n",
      "INFO:wandb.run_manager:unblocking file change observer, beginning sync with W&B servers\n",
      "INFO:wandb.run_manager:file/dir modified: D:\\Code\\DRL_udacity\\deep-reinforcement-learning\\p2_continuous-control\\wandb\\run-20191120_144308-rz0f5h3z\\wandb-summary.json\n",
      "INFO:wandb.run_manager:file/dir modified: D:\\Code\\DRL_udacity\\deep-reinforcement-learning\\p2_continuous-control\\wandb\\run-20191120_144308-rz0f5h3z\\wandb-metadata.json\n",
      "INFO:wandb.run_manager:file/dir modified: D:\\Code\\DRL_udacity\\deep-reinforcement-learning\\p2_continuous-control\\wandb\\run-20191120_144308-rz0f5h3z\\config.yaml\n",
      "INFO:wandb.run_manager:file/dir modified: D:\\Code\\DRL_udacity\\deep-reinforcement-learning\\p2_continuous-control\\wandb\\run-20191120_144308-rz0f5h3z\\wandb-events.jsonl\n",
      "INFO:wandb.run_manager:file/dir modified: D:\\Code\\DRL_udacity\\deep-reinforcement-learning\\p2_continuous-control\\wandb\\run-20191120_144308-rz0f5h3z\\requirements.txt\n",
      "INFO:wandb.run_manager:file/dir modified: D:\\Code\\DRL_udacity\\deep-reinforcement-learning\\p2_continuous-control\\wandb\\run-20191120_144308-rz0f5h3z\\wandb-summary.json\n",
      "INFO:wandb.run_manager:file/dir modified: D:\\Code\\DRL_udacity\\deep-reinforcement-learning\\p2_continuous-control\\wandb\\run-20191120_144308-rz0f5h3z\\diff.patch\n",
      "INFO:wandb.run_manager:file/dir modified: D:\\Code\\DRL_udacity\\deep-reinforcement-learning\\p2_continuous-control\\wandb\\run-20191120_144308-rz0f5h3z\\wandb-metadata.json\n"
     ]
    },
    {
     "name": "stdout",
     "output_type": "stream",
     "text": [
      "\r",
      "Episode 1\tAverage Score: 0.83\tScore: 0.83\n"
     ]
    },
    {
     "name": "stderr",
     "output_type": "stream",
     "text": [
      "INFO:wandb.run_manager:file/dir modified: D:\\Code\\DRL_udacity\\deep-reinforcement-learning\\p2_continuous-control\\wandb\\run-20191120_144308-rz0f5h3z\\wandb-history.jsonl\n",
      "INFO:wandb.run_manager:file/dir modified: D:\\Code\\DRL_udacity\\deep-reinforcement-learning\\p2_continuous-control\\wandb\\run-20191120_144308-rz0f5h3z\\wandb-summary.json\n",
      "INFO:wandb.run_manager:file/dir modified: D:\\Code\\DRL_udacity\\deep-reinforcement-learning\\p2_continuous-control\\wandb\\run-20191120_144308-rz0f5h3z\\wandb-events.jsonl\n",
      "INFO:wandb.run_manager:file/dir modified: D:\\Code\\DRL_udacity\\deep-reinforcement-learning\\p2_continuous-control\\wandb\\run-20191120_144308-rz0f5h3z\\wandb-metadata.json\n"
     ]
    },
    {
     "name": "stdout",
     "output_type": "stream",
     "text": [
      "\r",
      "Episode 2\tAverage Score: 0.78\tScore: 0.72\n"
     ]
    },
    {
     "name": "stderr",
     "output_type": "stream",
     "text": [
      "INFO:wandb.run_manager:file/dir modified: D:\\Code\\DRL_udacity\\deep-reinforcement-learning\\p2_continuous-control\\wandb\\run-20191120_144308-rz0f5h3z\\wandb-history.jsonl\n",
      "INFO:wandb.run_manager:file/dir modified: D:\\Code\\DRL_udacity\\deep-reinforcement-learning\\p2_continuous-control\\wandb\\run-20191120_144308-rz0f5h3z\\wandb-summary.json\n",
      "INFO:wandb.run_manager:file/dir modified: D:\\Code\\DRL_udacity\\deep-reinforcement-learning\\p2_continuous-control\\wandb\\run-20191120_144308-rz0f5h3z\\wandb-metadata.json\n",
      "INFO:wandb.run_manager:file/dir modified: D:\\Code\\DRL_udacity\\deep-reinforcement-learning\\p2_continuous-control\\wandb\\run-20191120_144308-rz0f5h3z\\wandb-events.jsonl\n",
      "INFO:wandb.run_manager:file/dir modified: D:\\Code\\DRL_udacity\\deep-reinforcement-learning\\p2_continuous-control\\wandb\\run-20191120_144308-rz0f5h3z\\wandb-metadata.json\n"
     ]
    },
    {
     "name": "stdout",
     "output_type": "stream",
     "text": [
      "\r",
      "Episode 3\tAverage Score: 0.73\tScore: 0.65\n"
     ]
    },
    {
     "name": "stderr",
     "output_type": "stream",
     "text": [
      "INFO:wandb.run_manager:file/dir modified: D:\\Code\\DRL_udacity\\deep-reinforcement-learning\\p2_continuous-control\\wandb\\run-20191120_144308-rz0f5h3z\\wandb-history.jsonl\n",
      "INFO:wandb.run_manager:file/dir modified: D:\\Code\\DRL_udacity\\deep-reinforcement-learning\\p2_continuous-control\\wandb\\run-20191120_144308-rz0f5h3z\\wandb-summary.json\n",
      "INFO:wandb.run_manager:file/dir modified: D:\\Code\\DRL_udacity\\deep-reinforcement-learning\\p2_continuous-control\\wandb\\run-20191120_144308-rz0f5h3z\\wandb-metadata.json\n",
      "INFO:wandb.run_manager:file/dir modified: D:\\Code\\DRL_udacity\\deep-reinforcement-learning\\p2_continuous-control\\wandb\\run-20191120_144308-rz0f5h3z\\wandb-history.jsonl\n",
      "INFO:wandb.run_manager:file/dir modified: D:\\Code\\DRL_udacity\\deep-reinforcement-learning\\p2_continuous-control\\wandb\\run-20191120_144308-rz0f5h3z\\wandb-summary.json\n"
     ]
    },
    {
     "name": "stdout",
     "output_type": "stream",
     "text": [
      "\r",
      "Episode 4\tAverage Score: 0.76\tScore: 0.83\n"
     ]
    },
    {
     "name": "stderr",
     "output_type": "stream",
     "text": [
      "INFO:wandb.run_manager:file/dir modified: D:\\Code\\DRL_udacity\\deep-reinforcement-learning\\p2_continuous-control\\wandb\\run-20191120_144308-rz0f5h3z\\wandb-events.jsonl\n",
      "INFO:wandb.run_manager:file/dir modified: D:\\Code\\DRL_udacity\\deep-reinforcement-learning\\p2_continuous-control\\wandb\\run-20191120_144308-rz0f5h3z\\wandb-metadata.json\n"
     ]
    },
    {
     "name": "stdout",
     "output_type": "stream",
     "text": [
      "\r",
      "Episode 5\tAverage Score: 0.88\tScore: 1.37\n"
     ]
    },
    {
     "name": "stderr",
     "output_type": "stream",
     "text": [
      "INFO:wandb.run_manager:file/dir modified: D:\\Code\\DRL_udacity\\deep-reinforcement-learning\\p2_continuous-control\\wandb\\run-20191120_144308-rz0f5h3z\\wandb-history.jsonl\n",
      "INFO:wandb.run_manager:file/dir modified: D:\\Code\\DRL_udacity\\deep-reinforcement-learning\\p2_continuous-control\\wandb\\run-20191120_144308-rz0f5h3z\\wandb-summary.json\n",
      "INFO:wandb.run_manager:file/dir modified: D:\\Code\\DRL_udacity\\deep-reinforcement-learning\\p2_continuous-control\\wandb\\run-20191120_144308-rz0f5h3z\\wandb-metadata.json\n",
      "INFO:wandb.run_manager:file/dir modified: D:\\Code\\DRL_udacity\\deep-reinforcement-learning\\p2_continuous-control\\wandb\\run-20191120_144308-rz0f5h3z\\wandb-events.jsonl\n",
      "INFO:wandb.run_manager:file/dir modified: D:\\Code\\DRL_udacity\\deep-reinforcement-learning\\p2_continuous-control\\wandb\\run-20191120_144308-rz0f5h3z\\wandb-metadata.json\n"
     ]
    },
    {
     "name": "stdout",
     "output_type": "stream",
     "text": [
      "\r",
      "Episode 6\tAverage Score: 0.90\tScore: 0.97\n"
     ]
    },
    {
     "name": "stderr",
     "output_type": "stream",
     "text": [
      "INFO:wandb.run_manager:file/dir modified: D:\\Code\\DRL_udacity\\deep-reinforcement-learning\\p2_continuous-control\\wandb\\run-20191120_144308-rz0f5h3z\\wandb-history.jsonl\n",
      "INFO:wandb.run_manager:file/dir modified: D:\\Code\\DRL_udacity\\deep-reinforcement-learning\\p2_continuous-control\\wandb\\run-20191120_144308-rz0f5h3z\\wandb-summary.json\n",
      "INFO:wandb.run_manager:file/dir modified: D:\\Code\\DRL_udacity\\deep-reinforcement-learning\\p2_continuous-control\\wandb\\run-20191120_144308-rz0f5h3z\\wandb-metadata.json\n",
      "INFO:wandb.run_manager:file/dir modified: D:\\Code\\DRL_udacity\\deep-reinforcement-learning\\p2_continuous-control\\wandb\\run-20191120_144308-rz0f5h3z\\wandb-history.jsonl\n",
      "INFO:wandb.run_manager:file/dir modified: D:\\Code\\DRL_udacity\\deep-reinforcement-learning\\p2_continuous-control\\wandb\\run-20191120_144308-rz0f5h3z\\wandb-summary.json\n",
      "INFO:wandb.run_manager:file/dir modified: D:\\Code\\DRL_udacity\\deep-reinforcement-learning\\p2_continuous-control\\wandb\\run-20191120_144308-rz0f5h3z\\wandb-events.jsonl\n"
     ]
    },
    {
     "name": "stdout",
     "output_type": "stream",
     "text": [
      "\r",
      "Episode 7\tAverage Score: 0.95\tScore: 1.24\n"
     ]
    },
    {
     "name": "stderr",
     "output_type": "stream",
     "text": [
      "INFO:wandb.run_manager:file/dir modified: D:\\Code\\DRL_udacity\\deep-reinforcement-learning\\p2_continuous-control\\wandb\\run-20191120_144308-rz0f5h3z\\wandb-metadata.json\n"
     ]
    },
    {
     "name": "stdout",
     "output_type": "stream",
     "text": [
      "\r",
      "Episode 8\tAverage Score: 0.99\tScore: 1.26\n"
     ]
    },
    {
     "name": "stderr",
     "output_type": "stream",
     "text": [
      "INFO:wandb.run_manager:file/dir modified: D:\\Code\\DRL_udacity\\deep-reinforcement-learning\\p2_continuous-control\\wandb\\run-20191120_144308-rz0f5h3z\\wandb-history.jsonl\n",
      "INFO:wandb.run_manager:file/dir modified: D:\\Code\\DRL_udacity\\deep-reinforcement-learning\\p2_continuous-control\\wandb\\run-20191120_144308-rz0f5h3z\\wandb-summary.json\n",
      "INFO:wandb.run_manager:file/dir modified: D:\\Code\\DRL_udacity\\deep-reinforcement-learning\\p2_continuous-control\\wandb\\run-20191120_144308-rz0f5h3z\\wandb-metadata.json\n",
      "INFO:wandb.run_manager:file/dir modified: D:\\Code\\DRL_udacity\\deep-reinforcement-learning\\p2_continuous-control\\wandb\\run-20191120_144308-rz0f5h3z\\wandb-events.jsonl\n",
      "INFO:wandb.run_manager:file/dir modified: D:\\Code\\DRL_udacity\\deep-reinforcement-learning\\p2_continuous-control\\wandb\\run-20191120_144308-rz0f5h3z\\wandb-metadata.json\n"
     ]
    },
    {
     "name": "stdout",
     "output_type": "stream",
     "text": [
      "\r",
      "Episode 9\tAverage Score: 1.00\tScore: 1.16\n"
     ]
    },
    {
     "name": "stderr",
     "output_type": "stream",
     "text": [
      "INFO:wandb.run_manager:file/dir modified: D:\\Code\\DRL_udacity\\deep-reinforcement-learning\\p2_continuous-control\\wandb\\run-20191120_144308-rz0f5h3z\\wandb-history.jsonl\n",
      "INFO:wandb.run_manager:file/dir modified: D:\\Code\\DRL_udacity\\deep-reinforcement-learning\\p2_continuous-control\\wandb\\run-20191120_144308-rz0f5h3z\\wandb-summary.json\n",
      "INFO:wandb.run_manager:file/dir modified: D:\\Code\\DRL_udacity\\deep-reinforcement-learning\\p2_continuous-control\\wandb\\run-20191120_144308-rz0f5h3z\\wandb-metadata.json\n",
      "INFO:wandb.run_manager:file/dir modified: D:\\Code\\DRL_udacity\\deep-reinforcement-learning\\p2_continuous-control\\wandb\\run-20191120_144308-rz0f5h3z\\wandb-events.jsonl\n"
     ]
    },
    {
     "name": "stdout",
     "output_type": "stream",
     "text": [
      "\r",
      "Episode 10\tAverage Score: 1.02\tScore: 1.17\n"
     ]
    },
    {
     "name": "stderr",
     "output_type": "stream",
     "text": [
      "INFO:wandb.run_manager:file/dir modified: D:\\Code\\DRL_udacity\\deep-reinforcement-learning\\p2_continuous-control\\wandb\\run-20191120_144308-rz0f5h3z\\wandb-history.jsonl\n",
      "INFO:wandb.run_manager:file/dir modified: D:\\Code\\DRL_udacity\\deep-reinforcement-learning\\p2_continuous-control\\wandb\\run-20191120_144308-rz0f5h3z\\wandb-summary.json\n",
      "INFO:wandb.run_manager:file/dir modified: D:\\Code\\DRL_udacity\\deep-reinforcement-learning\\p2_continuous-control\\wandb\\run-20191120_144308-rz0f5h3z\\wandb-metadata.json\n",
      "INFO:wandb.run_manager:file/dir modified: D:\\Code\\DRL_udacity\\deep-reinforcement-learning\\p2_continuous-control\\wandb\\run-20191120_144308-rz0f5h3z\\wandb-history.jsonl\n",
      "INFO:wandb.run_manager:file/dir modified: D:\\Code\\DRL_udacity\\deep-reinforcement-learning\\p2_continuous-control\\wandb\\run-20191120_144308-rz0f5h3z\\wandb-summary.json\n"
     ]
    },
    {
     "name": "stdout",
     "output_type": "stream",
     "text": [
      "\r",
      "Episode 11\tAverage Score: 1.10\tScore: 1.95\n"
     ]
    },
    {
     "name": "stderr",
     "output_type": "stream",
     "text": [
      "INFO:wandb.run_manager:file/dir modified: D:\\Code\\DRL_udacity\\deep-reinforcement-learning\\p2_continuous-control\\wandb\\run-20191120_144308-rz0f5h3z\\wandb-metadata.json\n",
      "INFO:wandb.run_manager:file/dir modified: D:\\Code\\DRL_udacity\\deep-reinforcement-learning\\p2_continuous-control\\wandb\\run-20191120_144308-rz0f5h3z\\wandb-events.jsonl\n",
      "INFO:wandb.run_manager:file/dir modified: D:\\Code\\DRL_udacity\\deep-reinforcement-learning\\p2_continuous-control\\wandb\\run-20191120_144308-rz0f5h3z\\wandb-metadata.json\n"
     ]
    },
    {
     "name": "stdout",
     "output_type": "stream",
     "text": [
      "\r",
      "Episode 12\tAverage Score: 1.15\tScore: 1.66\n"
     ]
    },
    {
     "name": "stderr",
     "output_type": "stream",
     "text": [
      "INFO:wandb.run_manager:file/dir modified: D:\\Code\\DRL_udacity\\deep-reinforcement-learning\\p2_continuous-control\\wandb\\run-20191120_144308-rz0f5h3z\\wandb-history.jsonl\n",
      "INFO:wandb.run_manager:file/dir modified: D:\\Code\\DRL_udacity\\deep-reinforcement-learning\\p2_continuous-control\\wandb\\run-20191120_144308-rz0f5h3z\\wandb-summary.json\n",
      "INFO:wandb.run_manager:file/dir modified: D:\\Code\\DRL_udacity\\deep-reinforcement-learning\\p2_continuous-control\\wandb\\run-20191120_144308-rz0f5h3z\\wandb-metadata.json\n",
      "INFO:wandb.run_manager:file/dir modified: D:\\Code\\DRL_udacity\\deep-reinforcement-learning\\p2_continuous-control\\wandb\\run-20191120_144308-rz0f5h3z\\wandb-events.jsonl\n",
      "INFO:wandb.run_manager:file/dir modified: D:\\Code\\DRL_udacity\\deep-reinforcement-learning\\p2_continuous-control\\wandb\\run-20191120_144308-rz0f5h3z\\wandb-history.jsonl\n"
     ]
    },
    {
     "name": "stdout",
     "output_type": "stream",
     "text": [
      "\r",
      "Episode 13\tAverage Score: 1.14\tScore: 1.04\n"
     ]
    },
    {
     "name": "stderr",
     "output_type": "stream",
     "text": [
      "INFO:wandb.run_manager:file/dir modified: D:\\Code\\DRL_udacity\\deep-reinforcement-learning\\p2_continuous-control\\wandb\\run-20191120_144308-rz0f5h3z\\wandb-summary.json\n",
      "INFO:wandb.run_manager:file/dir modified: D:\\Code\\DRL_udacity\\deep-reinforcement-learning\\p2_continuous-control\\wandb\\run-20191120_144308-rz0f5h3z\\wandb-metadata.json\n"
     ]
    },
    {
     "name": "stdout",
     "output_type": "stream",
     "text": [
      "\r",
      "Episode 14\tAverage Score: 1.12\tScore: 0.86\n"
     ]
    },
    {
     "name": "stderr",
     "output_type": "stream",
     "text": [
      "INFO:wandb.run_manager:file/dir modified: D:\\Code\\DRL_udacity\\deep-reinforcement-learning\\p2_continuous-control\\wandb\\run-20191120_144308-rz0f5h3z\\wandb-history.jsonl\n",
      "INFO:wandb.run_manager:file/dir modified: D:\\Code\\DRL_udacity\\deep-reinforcement-learning\\p2_continuous-control\\wandb\\run-20191120_144308-rz0f5h3z\\wandb-summary.json\n",
      "INFO:wandb.run_manager:file/dir modified: D:\\Code\\DRL_udacity\\deep-reinforcement-learning\\p2_continuous-control\\wandb\\run-20191120_144308-rz0f5h3z\\wandb-metadata.json\n",
      "INFO:wandb.run_manager:file/dir modified: D:\\Code\\DRL_udacity\\deep-reinforcement-learning\\p2_continuous-control\\wandb\\run-20191120_144308-rz0f5h3z\\wandb-events.jsonl\n",
      "INFO:wandb.run_manager:file/dir modified: D:\\Code\\DRL_udacity\\deep-reinforcement-learning\\p2_continuous-control\\wandb\\run-20191120_144308-rz0f5h3z\\wandb-metadata.json\n"
     ]
    },
    {
     "name": "stdout",
     "output_type": "stream",
     "text": [
      "\r",
      "Episode 15\tAverage Score: 1.13\tScore: 1.17\n"
     ]
    },
    {
     "name": "stderr",
     "output_type": "stream",
     "text": [
      "INFO:wandb.run_manager:file/dir modified: D:\\Code\\DRL_udacity\\deep-reinforcement-learning\\p2_continuous-control\\wandb\\run-20191120_144308-rz0f5h3z\\wandb-history.jsonl\n",
      "INFO:wandb.run_manager:file/dir modified: D:\\Code\\DRL_udacity\\deep-reinforcement-learning\\p2_continuous-control\\wandb\\run-20191120_144308-rz0f5h3z\\wandb-summary.json\n",
      "INFO:wandb.run_manager:file/dir modified: D:\\Code\\DRL_udacity\\deep-reinforcement-learning\\p2_continuous-control\\wandb\\run-20191120_144308-rz0f5h3z\\wandb-events.jsonl\n",
      "INFO:wandb.run_manager:file/dir modified: D:\\Code\\DRL_udacity\\deep-reinforcement-learning\\p2_continuous-control\\wandb\\run-20191120_144308-rz0f5h3z\\wandb-metadata.json\n"
     ]
    },
    {
     "name": "stdout",
     "output_type": "stream",
     "text": [
      "\r",
      "Episode 16\tAverage Score: 1.16\tScore: 1.61\n"
     ]
    },
    {
     "name": "stderr",
     "output_type": "stream",
     "text": [
      "INFO:wandb.run_manager:file/dir modified: D:\\Code\\DRL_udacity\\deep-reinforcement-learning\\p2_continuous-control\\wandb\\run-20191120_144308-rz0f5h3z\\wandb-history.jsonl\n",
      "INFO:wandb.run_manager:file/dir modified: D:\\Code\\DRL_udacity\\deep-reinforcement-learning\\p2_continuous-control\\wandb\\run-20191120_144308-rz0f5h3z\\wandb-summary.json\n",
      "INFO:wandb.run_manager:file/dir modified: D:\\Code\\DRL_udacity\\deep-reinforcement-learning\\p2_continuous-control\\wandb\\run-20191120_144308-rz0f5h3z\\wandb-metadata.json\n",
      "INFO:wandb.run_manager:file/dir modified: D:\\Code\\DRL_udacity\\deep-reinforcement-learning\\p2_continuous-control\\wandb\\run-20191120_144308-rz0f5h3z\\wandb-events.jsonl\n"
     ]
    },
    {
     "name": "stdout",
     "output_type": "stream",
     "text": [
      "\r",
      "Episode 17\tAverage Score: 1.20\tScore: 1.89\n"
     ]
    },
    {
     "name": "stderr",
     "output_type": "stream",
     "text": [
      "INFO:wandb.run_manager:file/dir modified: D:\\Code\\DRL_udacity\\deep-reinforcement-learning\\p2_continuous-control\\wandb\\run-20191120_144308-rz0f5h3z\\wandb-history.jsonl\n",
      "INFO:wandb.run_manager:file/dir modified: D:\\Code\\DRL_udacity\\deep-reinforcement-learning\\p2_continuous-control\\wandb\\run-20191120_144308-rz0f5h3z\\wandb-summary.json\n",
      "INFO:wandb.run_manager:file/dir modified: D:\\Code\\DRL_udacity\\deep-reinforcement-learning\\p2_continuous-control\\wandb\\run-20191120_144308-rz0f5h3z\\wandb-metadata.json\n",
      "INFO:wandb.run_manager:file/dir modified: D:\\Code\\DRL_udacity\\deep-reinforcement-learning\\p2_continuous-control\\wandb\\run-20191120_144308-rz0f5h3z\\wandb-metadata.json\n"
     ]
    },
    {
     "name": "stdout",
     "output_type": "stream",
     "text": [
      "\r",
      "Episode 18\tAverage Score: 1.24\tScore: 2.00\n"
     ]
    },
    {
     "name": "stderr",
     "output_type": "stream",
     "text": [
      "INFO:wandb.run_manager:file/dir modified: D:\\Code\\DRL_udacity\\deep-reinforcement-learning\\p2_continuous-control\\wandb\\run-20191120_144308-rz0f5h3z\\wandb-history.jsonl\n",
      "INFO:wandb.run_manager:file/dir modified: D:\\Code\\DRL_udacity\\deep-reinforcement-learning\\p2_continuous-control\\wandb\\run-20191120_144308-rz0f5h3z\\wandb-summary.json\n",
      "INFO:wandb.run_manager:file/dir modified: D:\\Code\\DRL_udacity\\deep-reinforcement-learning\\p2_continuous-control\\wandb\\run-20191120_144308-rz0f5h3z\\wandb-events.jsonl\n",
      "INFO:wandb.run_manager:file/dir modified: D:\\Code\\DRL_udacity\\deep-reinforcement-learning\\p2_continuous-control\\wandb\\run-20191120_144308-rz0f5h3z\\wandb-metadata.json\n",
      "INFO:wandb.run_manager:file/dir modified: D:\\Code\\DRL_udacity\\deep-reinforcement-learning\\p2_continuous-control\\wandb\\run-20191120_144308-rz0f5h3z\\wandb-history.jsonl\n",
      "INFO:wandb.run_manager:file/dir modified: D:\\Code\\DRL_udacity\\deep-reinforcement-learning\\p2_continuous-control\\wandb\\run-20191120_144308-rz0f5h3z\\wandb-summary.json\n"
     ]
    },
    {
     "name": "stdout",
     "output_type": "stream",
     "text": [
      "\r",
      "Episode 19\tAverage Score: 1.27\tScore: 1.79\n"
     ]
    },
    {
     "name": "stderr",
     "output_type": "stream",
     "text": [
      "INFO:wandb.run_manager:file/dir modified: D:\\Code\\DRL_udacity\\deep-reinforcement-learning\\p2_continuous-control\\wandb\\run-20191120_144308-rz0f5h3z\\wandb-metadata.json\n",
      "INFO:wandb.run_manager:file/dir modified: D:\\Code\\DRL_udacity\\deep-reinforcement-learning\\p2_continuous-control\\wandb\\run-20191120_144308-rz0f5h3z\\wandb-events.jsonl\n"
     ]
    },
    {
     "name": "stdout",
     "output_type": "stream",
     "text": [
      "\r",
      "Episode 20\tAverage Score: 1.28\tScore: 1.48\n",
      "\r",
      "Episode 20\tAverage Score: 1.28\n"
     ]
    },
    {
     "name": "stderr",
     "output_type": "stream",
     "text": [
      "INFO:wandb.run_manager:file/dir modified: D:\\Code\\DRL_udacity\\deep-reinforcement-learning\\p2_continuous-control\\wandb\\run-20191120_144308-rz0f5h3z\\wandb-metadata.json\n",
      "INFO:wandb.run_manager:file/dir modified: D:\\Code\\DRL_udacity\\deep-reinforcement-learning\\p2_continuous-control\\wandb\\run-20191120_144308-rz0f5h3z\\wandb-history.jsonl\n",
      "INFO:wandb.run_manager:file/dir modified: D:\\Code\\DRL_udacity\\deep-reinforcement-learning\\p2_continuous-control\\wandb\\run-20191120_144308-rz0f5h3z\\wandb-summary.json\n",
      "INFO:wandb.run_manager:file/dir modified: D:\\Code\\DRL_udacity\\deep-reinforcement-learning\\p2_continuous-control\\wandb\\run-20191120_144308-rz0f5h3z\\wandb-metadata.json\n",
      "INFO:wandb.run_manager:file/dir modified: D:\\Code\\DRL_udacity\\deep-reinforcement-learning\\p2_continuous-control\\wandb\\run-20191120_144308-rz0f5h3z\\wandb-history.jsonl\n",
      "INFO:wandb.run_manager:file/dir modified: D:\\Code\\DRL_udacity\\deep-reinforcement-learning\\p2_continuous-control\\wandb\\run-20191120_144308-rz0f5h3z\\wandb-summary.json\n"
     ]
    },
    {
     "name": "stdout",
     "output_type": "stream",
     "text": [
      "\r",
      "Episode 21\tAverage Score: 1.31\tScore: 1.82\n"
     ]
    },
    {
     "name": "stderr",
     "output_type": "stream",
     "text": [
      "INFO:wandb.run_manager:file/dir modified: D:\\Code\\DRL_udacity\\deep-reinforcement-learning\\p2_continuous-control\\wandb\\run-20191120_144308-rz0f5h3z\\wandb-events.jsonl\n",
      "INFO:wandb.run_manager:file/dir modified: D:\\Code\\DRL_udacity\\deep-reinforcement-learning\\p2_continuous-control\\wandb\\run-20191120_144308-rz0f5h3z\\wandb-metadata.json\n"
     ]
    },
    {
     "name": "stdout",
     "output_type": "stream",
     "text": [
      "\r",
      "Episode 22\tAverage Score: 1.36\tScore: 2.44\n"
     ]
    },
    {
     "name": "stderr",
     "output_type": "stream",
     "text": [
      "INFO:wandb.run_manager:file/dir modified: D:\\Code\\DRL_udacity\\deep-reinforcement-learning\\p2_continuous-control\\wandb\\run-20191120_144308-rz0f5h3z\\wandb-history.jsonl\n",
      "INFO:wandb.run_manager:file/dir modified: D:\\Code\\DRL_udacity\\deep-reinforcement-learning\\p2_continuous-control\\wandb\\run-20191120_144308-rz0f5h3z\\wandb-summary.json\n",
      "INFO:wandb.run_manager:file/dir modified: D:\\Code\\DRL_udacity\\deep-reinforcement-learning\\p2_continuous-control\\wandb\\run-20191120_144308-rz0f5h3z\\wandb-metadata.json\n",
      "INFO:wandb.run_manager:file/dir modified: D:\\Code\\DRL_udacity\\deep-reinforcement-learning\\p2_continuous-control\\wandb\\run-20191120_144308-rz0f5h3z\\wandb-events.jsonl\n",
      "INFO:wandb.run_manager:file/dir modified: D:\\Code\\DRL_udacity\\deep-reinforcement-learning\\p2_continuous-control\\wandb\\run-20191120_144308-rz0f5h3z\\wandb-metadata.json\n",
      "INFO:wandb.run_manager:file/dir modified: D:\\Code\\DRL_udacity\\deep-reinforcement-learning\\p2_continuous-control\\wandb\\run-20191120_144308-rz0f5h3z\\wandb-history.jsonl\n",
      "INFO:wandb.run_manager:file/dir modified: D:\\Code\\DRL_udacity\\deep-reinforcement-learning\\p2_continuous-control\\wandb\\run-20191120_144308-rz0f5h3z\\wandb-summary.json\n"
     ]
    },
    {
     "name": "stdout",
     "output_type": "stream",
     "text": [
      "\r",
      "Episode 23\tAverage Score: 1.36\tScore: 1.45\n"
     ]
    },
    {
     "name": "stderr",
     "output_type": "stream",
     "text": [
      "INFO:wandb.run_manager:file/dir modified: D:\\Code\\DRL_udacity\\deep-reinforcement-learning\\p2_continuous-control\\wandb\\run-20191120_144308-rz0f5h3z\\wandb-metadata.json\n"
     ]
    },
    {
     "name": "stdout",
     "output_type": "stream",
     "text": [
      "\r",
      "Episode 24\tAverage Score: 1.38\tScore: 1.84\n"
     ]
    },
    {
     "name": "stderr",
     "output_type": "stream",
     "text": [
      "INFO:wandb.run_manager:file/dir modified: D:\\Code\\DRL_udacity\\deep-reinforcement-learning\\p2_continuous-control\\wandb\\run-20191120_144308-rz0f5h3z\\wandb-history.jsonl\n",
      "INFO:wandb.run_manager:file/dir modified: D:\\Code\\DRL_udacity\\deep-reinforcement-learning\\p2_continuous-control\\wandb\\run-20191120_144308-rz0f5h3z\\wandb-summary.json\n",
      "INFO:wandb.run_manager:file/dir modified: D:\\Code\\DRL_udacity\\deep-reinforcement-learning\\p2_continuous-control\\wandb\\run-20191120_144308-rz0f5h3z\\wandb-events.jsonl\n",
      "INFO:wandb.run_manager:file/dir modified: D:\\Code\\DRL_udacity\\deep-reinforcement-learning\\p2_continuous-control\\wandb\\run-20191120_144308-rz0f5h3z\\wandb-metadata.json\n"
     ]
    },
    {
     "name": "stdout",
     "output_type": "stream",
     "text": [
      "\r",
      "Episode 25\tAverage Score: 1.48\tScore: 3.73\n"
     ]
    },
    {
     "name": "stderr",
     "output_type": "stream",
     "text": [
      "INFO:wandb.run_manager:file/dir modified: D:\\Code\\DRL_udacity\\deep-reinforcement-learning\\p2_continuous-control\\wandb\\run-20191120_144308-rz0f5h3z\\wandb-history.jsonl\n",
      "INFO:wandb.run_manager:file/dir modified: D:\\Code\\DRL_udacity\\deep-reinforcement-learning\\p2_continuous-control\\wandb\\run-20191120_144308-rz0f5h3z\\wandb-summary.json\n",
      "INFO:wandb.run_manager:file/dir modified: D:\\Code\\DRL_udacity\\deep-reinforcement-learning\\p2_continuous-control\\wandb\\run-20191120_144308-rz0f5h3z\\wandb-metadata.json\n",
      "INFO:wandb.run_manager:file/dir modified: D:\\Code\\DRL_udacity\\deep-reinforcement-learning\\p2_continuous-control\\wandb\\run-20191120_144308-rz0f5h3z\\wandb-events.jsonl\n",
      "INFO:wandb.run_manager:file/dir modified: D:\\Code\\DRL_udacity\\deep-reinforcement-learning\\p2_continuous-control\\wandb\\run-20191120_144308-rz0f5h3z\\wandb-metadata.json\n"
     ]
    },
    {
     "name": "stdout",
     "output_type": "stream",
     "text": [
      "\r",
      "Episode 26\tAverage Score: 1.55\tScore: 3.38\n"
     ]
    },
    {
     "name": "stderr",
     "output_type": "stream",
     "text": [
      "INFO:wandb.run_manager:file/dir modified: D:\\Code\\DRL_udacity\\deep-reinforcement-learning\\p2_continuous-control\\wandb\\run-20191120_144308-rz0f5h3z\\wandb-history.jsonl\n",
      "INFO:wandb.run_manager:file/dir modified: D:\\Code\\DRL_udacity\\deep-reinforcement-learning\\p2_continuous-control\\wandb\\run-20191120_144308-rz0f5h3z\\wandb-summary.json\n",
      "INFO:wandb.run_manager:file/dir modified: D:\\Code\\DRL_udacity\\deep-reinforcement-learning\\p2_continuous-control\\wandb\\run-20191120_144308-rz0f5h3z\\wandb-metadata.json\n",
      "INFO:wandb.run_manager:file/dir modified: D:\\Code\\DRL_udacity\\deep-reinforcement-learning\\p2_continuous-control\\wandb\\run-20191120_144308-rz0f5h3z\\wandb-events.jsonl\n"
     ]
    },
    {
     "name": "stdout",
     "output_type": "stream",
     "text": [
      "\r",
      "Episode 27\tAverage Score: 1.63\tScore: 3.69\n"
     ]
    },
    {
     "name": "stderr",
     "output_type": "stream",
     "text": [
      "INFO:wandb.run_manager:file/dir modified: D:\\Code\\DRL_udacity\\deep-reinforcement-learning\\p2_continuous-control\\wandb\\run-20191120_144308-rz0f5h3z\\wandb-history.jsonl\n",
      "INFO:wandb.run_manager:file/dir modified: D:\\Code\\DRL_udacity\\deep-reinforcement-learning\\p2_continuous-control\\wandb\\run-20191120_144308-rz0f5h3z\\wandb-summary.json\n",
      "INFO:wandb.run_manager:file/dir modified: D:\\Code\\DRL_udacity\\deep-reinforcement-learning\\p2_continuous-control\\wandb\\run-20191120_144308-rz0f5h3z\\wandb-metadata.json\n"
     ]
    },
    {
     "name": "stdout",
     "output_type": "stream",
     "text": [
      "\r",
      "Episode 28\tAverage Score: 1.77\tScore: 5.55\n"
     ]
    },
    {
     "name": "stderr",
     "output_type": "stream",
     "text": [
      "INFO:wandb.run_manager:file/dir modified: D:\\Code\\DRL_udacity\\deep-reinforcement-learning\\p2_continuous-control\\wandb\\run-20191120_144308-rz0f5h3z\\wandb-history.jsonl\n",
      "INFO:wandb.run_manager:file/dir modified: D:\\Code\\DRL_udacity\\deep-reinforcement-learning\\p2_continuous-control\\wandb\\run-20191120_144308-rz0f5h3z\\wandb-summary.json\n",
      "INFO:wandb.run_manager:file/dir modified: D:\\Code\\DRL_udacity\\deep-reinforcement-learning\\p2_continuous-control\\wandb\\run-20191120_144308-rz0f5h3z\\wandb-metadata.json\n",
      "INFO:wandb.run_manager:file/dir modified: D:\\Code\\DRL_udacity\\deep-reinforcement-learning\\p2_continuous-control\\wandb\\run-20191120_144308-rz0f5h3z\\wandb-events.jsonl\n",
      "INFO:wandb.run_manager:file/dir modified: D:\\Code\\DRL_udacity\\deep-reinforcement-learning\\p2_continuous-control\\wandb\\run-20191120_144308-rz0f5h3z\\wandb-metadata.json\n"
     ]
    },
    {
     "name": "stdout",
     "output_type": "stream",
     "text": [
      "\r",
      "Episode 29\tAverage Score: 1.99\tScore: 8.27\n"
     ]
    },
    {
     "name": "stderr",
     "output_type": "stream",
     "text": [
      "INFO:wandb.run_manager:file/dir modified: D:\\Code\\DRL_udacity\\deep-reinforcement-learning\\p2_continuous-control\\wandb\\run-20191120_144308-rz0f5h3z\\wandb-history.jsonl\n",
      "INFO:wandb.run_manager:file/dir modified: D:\\Code\\DRL_udacity\\deep-reinforcement-learning\\p2_continuous-control\\wandb\\run-20191120_144308-rz0f5h3z\\wandb-summary.json\n",
      "INFO:wandb.run_manager:file/dir modified: D:\\Code\\DRL_udacity\\deep-reinforcement-learning\\p2_continuous-control\\wandb\\run-20191120_144308-rz0f5h3z\\wandb-metadata.json\n",
      "INFO:wandb.run_manager:file/dir modified: D:\\Code\\DRL_udacity\\deep-reinforcement-learning\\p2_continuous-control\\wandb\\run-20191120_144308-rz0f5h3z\\wandb-events.jsonl\n"
     ]
    },
    {
     "name": "stdout",
     "output_type": "stream",
     "text": [
      "\r",
      "Episode 30\tAverage Score: 2.32\tScore: 11.63\n"
     ]
    },
    {
     "name": "stderr",
     "output_type": "stream",
     "text": [
      "INFO:wandb.run_manager:file/dir modified: D:\\Code\\DRL_udacity\\deep-reinforcement-learning\\p2_continuous-control\\wandb\\run-20191120_144308-rz0f5h3z\\wandb-history.jsonl\n",
      "INFO:wandb.run_manager:file/dir modified: D:\\Code\\DRL_udacity\\deep-reinforcement-learning\\p2_continuous-control\\wandb\\run-20191120_144308-rz0f5h3z\\wandb-summary.json\n",
      "INFO:wandb.run_manager:file/dir modified: D:\\Code\\DRL_udacity\\deep-reinforcement-learning\\p2_continuous-control\\wandb\\run-20191120_144308-rz0f5h3z\\wandb-metadata.json\n"
     ]
    },
    {
     "name": "stdout",
     "output_type": "stream",
     "text": [
      "\r",
      "Episode 31\tAverage Score: 2.74\tScore: 15.49\n"
     ]
    },
    {
     "name": "stderr",
     "output_type": "stream",
     "text": [
      "INFO:wandb.run_manager:file/dir modified: D:\\Code\\DRL_udacity\\deep-reinforcement-learning\\p2_continuous-control\\wandb\\run-20191120_144308-rz0f5h3z\\wandb-history.jsonl\n",
      "INFO:wandb.run_manager:file/dir modified: D:\\Code\\DRL_udacity\\deep-reinforcement-learning\\p2_continuous-control\\wandb\\run-20191120_144308-rz0f5h3z\\wandb-summary.json\n",
      "INFO:wandb.run_manager:file/dir modified: D:\\Code\\DRL_udacity\\deep-reinforcement-learning\\p2_continuous-control\\wandb\\run-20191120_144308-rz0f5h3z\\wandb-events.jsonl\n",
      "INFO:wandb.run_manager:file/dir modified: D:\\Code\\DRL_udacity\\deep-reinforcement-learning\\p2_continuous-control\\wandb\\run-20191120_144308-rz0f5h3z\\wandb-metadata.json\n",
      "INFO:wandb.run_manager:file/dir modified: D:\\Code\\DRL_udacity\\deep-reinforcement-learning\\p2_continuous-control\\wandb\\run-20191120_144308-rz0f5h3z\\wandb-metadata.json\n"
     ]
    },
    {
     "name": "stdout",
     "output_type": "stream",
     "text": [
      "\r",
      "Episode 32\tAverage Score: 3.15\tScore: 16.01\n"
     ]
    },
    {
     "name": "stderr",
     "output_type": "stream",
     "text": [
      "INFO:wandb.run_manager:file/dir modified: D:\\Code\\DRL_udacity\\deep-reinforcement-learning\\p2_continuous-control\\wandb\\run-20191120_144308-rz0f5h3z\\wandb-history.jsonl\n",
      "INFO:wandb.run_manager:file/dir modified: D:\\Code\\DRL_udacity\\deep-reinforcement-learning\\p2_continuous-control\\wandb\\run-20191120_144308-rz0f5h3z\\wandb-summary.json\n",
      "INFO:wandb.run_manager:file/dir modified: D:\\Code\\DRL_udacity\\deep-reinforcement-learning\\p2_continuous-control\\wandb\\run-20191120_144308-rz0f5h3z\\wandb-events.jsonl\n",
      "INFO:wandb.run_manager:file/dir modified: D:\\Code\\DRL_udacity\\deep-reinforcement-learning\\p2_continuous-control\\wandb\\run-20191120_144308-rz0f5h3z\\wandb-metadata.json\n"
     ]
    },
    {
     "name": "stdout",
     "output_type": "stream",
     "text": [
      "\r",
      "Episode 33\tAverage Score: 3.58\tScore: 17.14\n"
     ]
    },
    {
     "name": "stderr",
     "output_type": "stream",
     "text": [
      "INFO:wandb.run_manager:file/dir modified: D:\\Code\\DRL_udacity\\deep-reinforcement-learning\\p2_continuous-control\\wandb\\run-20191120_144308-rz0f5h3z\\wandb-history.jsonl\n",
      "INFO:wandb.run_manager:file/dir modified: D:\\Code\\DRL_udacity\\deep-reinforcement-learning\\p2_continuous-control\\wandb\\run-20191120_144308-rz0f5h3z\\wandb-summary.json\n",
      "INFO:wandb.run_manager:file/dir modified: D:\\Code\\DRL_udacity\\deep-reinforcement-learning\\p2_continuous-control\\wandb\\run-20191120_144308-rz0f5h3z\\wandb-metadata.json\n",
      "INFO:wandb.run_manager:file/dir modified: D:\\Code\\DRL_udacity\\deep-reinforcement-learning\\p2_continuous-control\\wandb\\run-20191120_144308-rz0f5h3z\\wandb-events.jsonl\n"
     ]
    },
    {
     "name": "stdout",
     "output_type": "stream",
     "text": [
      "\r",
      "Episode 34\tAverage Score: 4.10\tScore: 21.46\n"
     ]
    },
    {
     "name": "stderr",
     "output_type": "stream",
     "text": [
      "INFO:wandb.run_manager:file/dir modified: D:\\Code\\DRL_udacity\\deep-reinforcement-learning\\p2_continuous-control\\wandb\\run-20191120_144308-rz0f5h3z\\wandb-history.jsonl\n",
      "INFO:wandb.run_manager:file/dir modified: D:\\Code\\DRL_udacity\\deep-reinforcement-learning\\p2_continuous-control\\wandb\\run-20191120_144308-rz0f5h3z\\wandb-summary.json\n",
      "INFO:wandb.run_manager:file/dir modified: D:\\Code\\DRL_udacity\\deep-reinforcement-learning\\p2_continuous-control\\wandb\\run-20191120_144308-rz0f5h3z\\wandb-metadata.json\n",
      "INFO:wandb.run_manager:file/dir modified: D:\\Code\\DRL_udacity\\deep-reinforcement-learning\\p2_continuous-control\\wandb\\run-20191120_144308-rz0f5h3z\\wandb-metadata.json\n"
     ]
    },
    {
     "name": "stdout",
     "output_type": "stream",
     "text": [
      "\r",
      "Episode 35\tAverage Score: 4.71\tScore: 25.40\n"
     ]
    },
    {
     "name": "stderr",
     "output_type": "stream",
     "text": [
      "INFO:wandb.run_manager:file/dir modified: D:\\Code\\DRL_udacity\\deep-reinforcement-learning\\p2_continuous-control\\wandb\\run-20191120_144308-rz0f5h3z\\wandb-history.jsonl\n",
      "INFO:wandb.run_manager:file/dir modified: D:\\Code\\DRL_udacity\\deep-reinforcement-learning\\p2_continuous-control\\wandb\\run-20191120_144308-rz0f5h3z\\wandb-summary.json\n",
      "INFO:wandb.run_manager:file/dir modified: D:\\Code\\DRL_udacity\\deep-reinforcement-learning\\p2_continuous-control\\wandb\\run-20191120_144308-rz0f5h3z\\wandb-events.jsonl\n",
      "INFO:wandb.run_manager:file/dir modified: D:\\Code\\DRL_udacity\\deep-reinforcement-learning\\p2_continuous-control\\wandb\\run-20191120_144308-rz0f5h3z\\wandb-metadata.json\n",
      "INFO:wandb.run_manager:file/dir modified: D:\\Code\\DRL_udacity\\deep-reinforcement-learning\\p2_continuous-control\\wandb\\run-20191120_144308-rz0f5h3z\\wandb-history.jsonl\n",
      "INFO:wandb.run_manager:file/dir modified: D:\\Code\\DRL_udacity\\deep-reinforcement-learning\\p2_continuous-control\\wandb\\run-20191120_144308-rz0f5h3z\\wandb-summary.json\n"
     ]
    },
    {
     "name": "stdout",
     "output_type": "stream",
     "text": [
      "\r",
      "Episode 36\tAverage Score: 5.28\tScore: 25.02\n"
     ]
    },
    {
     "name": "stderr",
     "output_type": "stream",
     "text": [
      "INFO:wandb.run_manager:file/dir modified: D:\\Code\\DRL_udacity\\deep-reinforcement-learning\\p2_continuous-control\\wandb\\run-20191120_144308-rz0f5h3z\\wandb-metadata.json\n",
      "INFO:wandb.run_manager:file/dir modified: D:\\Code\\DRL_udacity\\deep-reinforcement-learning\\p2_continuous-control\\wandb\\run-20191120_144308-rz0f5h3z\\wandb-events.jsonl\n"
     ]
    },
    {
     "name": "stdout",
     "output_type": "stream",
     "text": [
      "\r",
      "Episode 37\tAverage Score: 5.89\tScore: 28.00\n"
     ]
    },
    {
     "name": "stderr",
     "output_type": "stream",
     "text": [
      "INFO:wandb.run_manager:file/dir modified: D:\\Code\\DRL_udacity\\deep-reinforcement-learning\\p2_continuous-control\\wandb\\run-20191120_144308-rz0f5h3z\\wandb-history.jsonl\n",
      "INFO:wandb.run_manager:file/dir modified: D:\\Code\\DRL_udacity\\deep-reinforcement-learning\\p2_continuous-control\\wandb\\run-20191120_144308-rz0f5h3z\\wandb-summary.json\n",
      "INFO:wandb.run_manager:file/dir modified: D:\\Code\\DRL_udacity\\deep-reinforcement-learning\\p2_continuous-control\\wandb\\run-20191120_144308-rz0f5h3z\\wandb-metadata.json\n",
      "INFO:wandb.run_manager:file/dir modified: D:\\Code\\DRL_udacity\\deep-reinforcement-learning\\p2_continuous-control\\wandb\\run-20191120_144308-rz0f5h3z\\wandb-metadata.json\n"
     ]
    },
    {
     "name": "stdout",
     "output_type": "stream",
     "text": [
      "\r",
      "Episode 38\tAverage Score: 6.52\tScore: 29.66\n"
     ]
    },
    {
     "name": "stderr",
     "output_type": "stream",
     "text": [
      "INFO:wandb.run_manager:file/dir modified: D:\\Code\\DRL_udacity\\deep-reinforcement-learning\\p2_continuous-control\\wandb\\run-20191120_144308-rz0f5h3z\\wandb-history.jsonl\n",
      "INFO:wandb.run_manager:file/dir modified: D:\\Code\\DRL_udacity\\deep-reinforcement-learning\\p2_continuous-control\\wandb\\run-20191120_144308-rz0f5h3z\\wandb-summary.json\n",
      "INFO:wandb.run_manager:file/dir modified: D:\\Code\\DRL_udacity\\deep-reinforcement-learning\\p2_continuous-control\\wandb\\run-20191120_144308-rz0f5h3z\\wandb-events.jsonl\n",
      "INFO:wandb.run_manager:file/dir modified: D:\\Code\\DRL_udacity\\deep-reinforcement-learning\\p2_continuous-control\\wandb\\run-20191120_144308-rz0f5h3z\\wandb-metadata.json\n"
     ]
    },
    {
     "name": "stdout",
     "output_type": "stream",
     "text": [
      "\r",
      "Episode 39\tAverage Score: 7.17\tScore: 31.89\n"
     ]
    },
    {
     "name": "stderr",
     "output_type": "stream",
     "text": [
      "INFO:wandb.run_manager:file/dir modified: D:\\Code\\DRL_udacity\\deep-reinforcement-learning\\p2_continuous-control\\wandb\\run-20191120_144308-rz0f5h3z\\wandb-history.jsonl\n",
      "INFO:wandb.run_manager:file/dir modified: D:\\Code\\DRL_udacity\\deep-reinforcement-learning\\p2_continuous-control\\wandb\\run-20191120_144308-rz0f5h3z\\wandb-summary.json\n",
      "INFO:wandb.run_manager:file/dir modified: D:\\Code\\DRL_udacity\\deep-reinforcement-learning\\p2_continuous-control\\wandb\\run-20191120_144308-rz0f5h3z\\wandb-metadata.json\n",
      "INFO:wandb.run_manager:file/dir modified: D:\\Code\\DRL_udacity\\deep-reinforcement-learning\\p2_continuous-control\\wandb\\run-20191120_144308-rz0f5h3z\\wandb-events.jsonl\n"
     ]
    },
    {
     "name": "stdout",
     "output_type": "stream",
     "text": [
      "\r",
      "Episode 40\tAverage Score: 7.78\tScore: 31.82\n",
      "\r",
      "Episode 40\tAverage Score: 7.78\n"
     ]
    },
    {
     "name": "stderr",
     "output_type": "stream",
     "text": [
      "INFO:wandb.run_manager:file/dir modified: D:\\Code\\DRL_udacity\\deep-reinforcement-learning\\p2_continuous-control\\wandb\\run-20191120_144308-rz0f5h3z\\wandb-history.jsonl\n",
      "INFO:wandb.run_manager:file/dir modified: D:\\Code\\DRL_udacity\\deep-reinforcement-learning\\p2_continuous-control\\wandb\\run-20191120_144308-rz0f5h3z\\wandb-summary.json\n",
      "INFO:wandb.run_manager:file/dir modified: D:\\Code\\DRL_udacity\\deep-reinforcement-learning\\p2_continuous-control\\wandb\\run-20191120_144308-rz0f5h3z\\wandb-metadata.json\n",
      "INFO:wandb.run_manager:file/dir modified: D:\\Code\\DRL_udacity\\deep-reinforcement-learning\\p2_continuous-control\\wandb\\run-20191120_144308-rz0f5h3z\\wandb-metadata.json\n",
      "INFO:wandb.run_manager:file/dir modified: D:\\Code\\DRL_udacity\\deep-reinforcement-learning\\p2_continuous-control\\wandb\\run-20191120_144308-rz0f5h3z\\wandb-history.jsonl\n",
      "INFO:wandb.run_manager:file/dir modified: D:\\Code\\DRL_udacity\\deep-reinforcement-learning\\p2_continuous-control\\wandb\\run-20191120_144308-rz0f5h3z\\wandb-summary.json\n"
     ]
    },
    {
     "name": "stdout",
     "output_type": "stream",
     "text": [
      "\r",
      "Episode 41\tAverage Score: 8.45\tScore: 35.23\n"
     ]
    },
    {
     "name": "stderr",
     "output_type": "stream",
     "text": [
      "INFO:wandb.run_manager:file/dir modified: D:\\Code\\DRL_udacity\\deep-reinforcement-learning\\p2_continuous-control\\wandb\\run-20191120_144308-rz0f5h3z\\wandb-events.jsonl\n",
      "INFO:wandb.run_manager:file/dir modified: D:\\Code\\DRL_udacity\\deep-reinforcement-learning\\p2_continuous-control\\wandb\\run-20191120_144308-rz0f5h3z\\wandb-metadata.json\n"
     ]
    },
    {
     "name": "stdout",
     "output_type": "stream",
     "text": [
      "\r",
      "Episode 42\tAverage Score: 9.11\tScore: 35.99\n"
     ]
    },
    {
     "name": "stderr",
     "output_type": "stream",
     "text": [
      "INFO:wandb.run_manager:file/dir modified: D:\\Code\\DRL_udacity\\deep-reinforcement-learning\\p2_continuous-control\\wandb\\run-20191120_144308-rz0f5h3z\\wandb-history.jsonl\n",
      "INFO:wandb.run_manager:file/dir modified: D:\\Code\\DRL_udacity\\deep-reinforcement-learning\\p2_continuous-control\\wandb\\run-20191120_144308-rz0f5h3z\\wandb-summary.json\n",
      "INFO:wandb.run_manager:file/dir modified: D:\\Code\\DRL_udacity\\deep-reinforcement-learning\\p2_continuous-control\\wandb\\run-20191120_144308-rz0f5h3z\\wandb-metadata.json\n",
      "INFO:wandb.run_manager:file/dir modified: D:\\Code\\DRL_udacity\\deep-reinforcement-learning\\p2_continuous-control\\wandb\\run-20191120_144308-rz0f5h3z\\wandb-events.jsonl\n"
     ]
    },
    {
     "name": "stdout",
     "output_type": "stream",
     "text": [
      "\r",
      "Episode 43\tAverage Score: 9.72\tScore: 35.58\n"
     ]
    },
    {
     "name": "stderr",
     "output_type": "stream",
     "text": [
      "INFO:wandb.run_manager:file/dir modified: D:\\Code\\DRL_udacity\\deep-reinforcement-learning\\p2_continuous-control\\wandb\\run-20191120_144308-rz0f5h3z\\wandb-metadata.json\n",
      "INFO:wandb.run_manager:file/dir modified: D:\\Code\\DRL_udacity\\deep-reinforcement-learning\\p2_continuous-control\\wandb\\run-20191120_144308-rz0f5h3z\\wandb-history.jsonl\n",
      "INFO:wandb.run_manager:file/dir modified: D:\\Code\\DRL_udacity\\deep-reinforcement-learning\\p2_continuous-control\\wandb\\run-20191120_144308-rz0f5h3z\\wandb-summary.json\n",
      "INFO:wandb.run_manager:file/dir modified: D:\\Code\\DRL_udacity\\deep-reinforcement-learning\\p2_continuous-control\\wandb\\run-20191120_144308-rz0f5h3z\\wandb-metadata.json\n",
      "INFO:wandb.run_manager:file/dir modified: D:\\Code\\DRL_udacity\\deep-reinforcement-learning\\p2_continuous-control\\wandb\\run-20191120_144308-rz0f5h3z\\wandb-events.jsonl\n",
      "INFO:wandb.run_manager:file/dir modified: D:\\Code\\DRL_udacity\\deep-reinforcement-learning\\p2_continuous-control\\wandb\\run-20191120_144308-rz0f5h3z\\wandb-history.jsonl\n",
      "INFO:wandb.run_manager:file/dir modified: D:\\Code\\DRL_udacity\\deep-reinforcement-learning\\p2_continuous-control\\wandb\\run-20191120_144308-rz0f5h3z\\wandb-summary.json\n"
     ]
    },
    {
     "name": "stdout",
     "output_type": "stream",
     "text": [
      "\r",
      "Episode 44\tAverage Score: 10.34\tScore: 37.04\n"
     ]
    },
    {
     "name": "stderr",
     "output_type": "stream",
     "text": [
      "INFO:wandb.run_manager:file/dir modified: D:\\Code\\DRL_udacity\\deep-reinforcement-learning\\p2_continuous-control\\wandb\\run-20191120_144308-rz0f5h3z\\wandb-metadata.json\n"
     ]
    },
    {
     "name": "stdout",
     "output_type": "stream",
     "text": [
      "\r",
      "Episode 45\tAverage Score: 10.92\tScore: 36.43\n"
     ]
    },
    {
     "name": "stderr",
     "output_type": "stream",
     "text": [
      "INFO:wandb.run_manager:file/dir modified: D:\\Code\\DRL_udacity\\deep-reinforcement-learning\\p2_continuous-control\\wandb\\run-20191120_144308-rz0f5h3z\\wandb-history.jsonl\n",
      "INFO:wandb.run_manager:file/dir modified: D:\\Code\\DRL_udacity\\deep-reinforcement-learning\\p2_continuous-control\\wandb\\run-20191120_144308-rz0f5h3z\\wandb-summary.json\n",
      "INFO:wandb.run_manager:file/dir modified: D:\\Code\\DRL_udacity\\deep-reinforcement-learning\\p2_continuous-control\\wandb\\run-20191120_144308-rz0f5h3z\\wandb-metadata.json\n",
      "INFO:wandb.run_manager:file/dir modified: D:\\Code\\DRL_udacity\\deep-reinforcement-learning\\p2_continuous-control\\wandb\\run-20191120_144308-rz0f5h3z\\wandb-events.jsonl\n",
      "INFO:wandb.run_manager:file/dir modified: D:\\Code\\DRL_udacity\\deep-reinforcement-learning\\p2_continuous-control\\wandb\\run-20191120_144308-rz0f5h3z\\wandb-metadata.json\n",
      "INFO:wandb.run_manager:file/dir modified: D:\\Code\\DRL_udacity\\deep-reinforcement-learning\\p2_continuous-control\\wandb\\run-20191120_144308-rz0f5h3z\\wandb-history.jsonl\n",
      "INFO:wandb.run_manager:file/dir modified: D:\\Code\\DRL_udacity\\deep-reinforcement-learning\\p2_continuous-control\\wandb\\run-20191120_144308-rz0f5h3z\\wandb-summary.json\n"
     ]
    },
    {
     "name": "stdout",
     "output_type": "stream",
     "text": [
      "\r",
      "Episode 46\tAverage Score: 11.48\tScore: 36.69\n"
     ]
    },
    {
     "name": "stderr",
     "output_type": "stream",
     "text": [
      "INFO:wandb.run_manager:file/dir modified: D:\\Code\\DRL_udacity\\deep-reinforcement-learning\\p2_continuous-control\\wandb\\run-20191120_144308-rz0f5h3z\\wandb-metadata.json\n",
      "INFO:wandb.run_manager:file/dir modified: D:\\Code\\DRL_udacity\\deep-reinforcement-learning\\p2_continuous-control\\wandb\\run-20191120_144308-rz0f5h3z\\wandb-events.jsonl\n"
     ]
    },
    {
     "name": "stdout",
     "output_type": "stream",
     "text": [
      "\r",
      "Episode 47\tAverage Score: 12.02\tScore: 36.84\n"
     ]
    },
    {
     "name": "stderr",
     "output_type": "stream",
     "text": [
      "INFO:wandb.run_manager:file/dir modified: D:\\Code\\DRL_udacity\\deep-reinforcement-learning\\p2_continuous-control\\wandb\\run-20191120_144308-rz0f5h3z\\wandb-history.jsonl\n",
      "INFO:wandb.run_manager:file/dir modified: D:\\Code\\DRL_udacity\\deep-reinforcement-learning\\p2_continuous-control\\wandb\\run-20191120_144308-rz0f5h3z\\wandb-summary.json\n",
      "INFO:wandb.run_manager:file/dir modified: D:\\Code\\DRL_udacity\\deep-reinforcement-learning\\p2_continuous-control\\wandb\\run-20191120_144308-rz0f5h3z\\wandb-metadata.json\n"
     ]
    },
    {
     "name": "stdout",
     "output_type": "stream",
     "text": [
      "\r",
      "Episode 48\tAverage Score: 12.56\tScore: 37.64\n"
     ]
    },
    {
     "name": "stderr",
     "output_type": "stream",
     "text": [
      "INFO:wandb.run_manager:file/dir modified: D:\\Code\\DRL_udacity\\deep-reinforcement-learning\\p2_continuous-control\\wandb\\run-20191120_144308-rz0f5h3z\\wandb-history.jsonl\n",
      "INFO:wandb.run_manager:file/dir modified: D:\\Code\\DRL_udacity\\deep-reinforcement-learning\\p2_continuous-control\\wandb\\run-20191120_144308-rz0f5h3z\\wandb-summary.json\n",
      "INFO:wandb.run_manager:file/dir modified: D:\\Code\\DRL_udacity\\deep-reinforcement-learning\\p2_continuous-control\\wandb\\run-20191120_144308-rz0f5h3z\\wandb-events.jsonl\n",
      "INFO:wandb.run_manager:file/dir modified: D:\\Code\\DRL_udacity\\deep-reinforcement-learning\\p2_continuous-control\\wandb\\run-20191120_144308-rz0f5h3z\\wandb-metadata.json\n",
      "INFO:wandb.run_manager:file/dir modified: D:\\Code\\DRL_udacity\\deep-reinforcement-learning\\p2_continuous-control\\wandb\\run-20191120_144308-rz0f5h3z\\wandb-metadata.json\n"
     ]
    },
    {
     "name": "stdout",
     "output_type": "stream",
     "text": [
      "\r",
      "Episode 49\tAverage Score: 13.06\tScore: 37.02\n"
     ]
    },
    {
     "name": "stderr",
     "output_type": "stream",
     "text": [
      "INFO:wandb.run_manager:file/dir modified: D:\\Code\\DRL_udacity\\deep-reinforcement-learning\\p2_continuous-control\\wandb\\run-20191120_144308-rz0f5h3z\\wandb-history.jsonl\n",
      "INFO:wandb.run_manager:file/dir modified: D:\\Code\\DRL_udacity\\deep-reinforcement-learning\\p2_continuous-control\\wandb\\run-20191120_144308-rz0f5h3z\\wandb-summary.json\n",
      "INFO:wandb.run_manager:file/dir modified: D:\\Code\\DRL_udacity\\deep-reinforcement-learning\\p2_continuous-control\\wandb\\run-20191120_144308-rz0f5h3z\\wandb-events.jsonl\n",
      "INFO:wandb.run_manager:file/dir modified: D:\\Code\\DRL_udacity\\deep-reinforcement-learning\\p2_continuous-control\\wandb\\run-20191120_144308-rz0f5h3z\\wandb-metadata.json\n"
     ]
    },
    {
     "name": "stdout",
     "output_type": "stream",
     "text": [
      "\r",
      "Episode 50\tAverage Score: 13.55\tScore: 37.49\n"
     ]
    },
    {
     "name": "stderr",
     "output_type": "stream",
     "text": [
      "INFO:wandb.run_manager:file/dir modified: D:\\Code\\DRL_udacity\\deep-reinforcement-learning\\p2_continuous-control\\wandb\\run-20191120_144308-rz0f5h3z\\wandb-history.jsonl\n",
      "INFO:wandb.run_manager:file/dir modified: D:\\Code\\DRL_udacity\\deep-reinforcement-learning\\p2_continuous-control\\wandb\\run-20191120_144308-rz0f5h3z\\wandb-summary.json\n",
      "INFO:wandb.run_manager:file/dir modified: D:\\Code\\DRL_udacity\\deep-reinforcement-learning\\p2_continuous-control\\wandb\\run-20191120_144308-rz0f5h3z\\wandb-metadata.json\n",
      "INFO:wandb.run_manager:file/dir modified: D:\\Code\\DRL_udacity\\deep-reinforcement-learning\\p2_continuous-control\\wandb\\run-20191120_144308-rz0f5h3z\\wandb-events.jsonl\n"
     ]
    },
    {
     "name": "stdout",
     "output_type": "stream",
     "text": [
      "\r",
      "Episode 51\tAverage Score: 14.02\tScore: 37.58\n"
     ]
    },
    {
     "name": "stderr",
     "output_type": "stream",
     "text": [
      "INFO:wandb.run_manager:file/dir modified: D:\\Code\\DRL_udacity\\deep-reinforcement-learning\\p2_continuous-control\\wandb\\run-20191120_144308-rz0f5h3z\\wandb-history.jsonl\n",
      "INFO:wandb.run_manager:file/dir modified: D:\\Code\\DRL_udacity\\deep-reinforcement-learning\\p2_continuous-control\\wandb\\run-20191120_144308-rz0f5h3z\\wandb-summary.json\n",
      "INFO:wandb.run_manager:file/dir modified: D:\\Code\\DRL_udacity\\deep-reinforcement-learning\\p2_continuous-control\\wandb\\run-20191120_144308-rz0f5h3z\\wandb-metadata.json\n",
      "INFO:wandb.run_manager:file/dir modified: D:\\Code\\DRL_udacity\\deep-reinforcement-learning\\p2_continuous-control\\wandb\\run-20191120_144308-rz0f5h3z\\wandb-metadata.json\n"
     ]
    },
    {
     "name": "stdout",
     "output_type": "stream",
     "text": [
      "\r",
      "Episode 52\tAverage Score: 14.47\tScore: 37.68\n"
     ]
    },
    {
     "name": "stderr",
     "output_type": "stream",
     "text": [
      "INFO:wandb.run_manager:file/dir modified: D:\\Code\\DRL_udacity\\deep-reinforcement-learning\\p2_continuous-control\\wandb\\run-20191120_144308-rz0f5h3z\\wandb-history.jsonl\n",
      "INFO:wandb.run_manager:file/dir modified: D:\\Code\\DRL_udacity\\deep-reinforcement-learning\\p2_continuous-control\\wandb\\run-20191120_144308-rz0f5h3z\\wandb-summary.json\n",
      "INFO:wandb.run_manager:file/dir modified: D:\\Code\\DRL_udacity\\deep-reinforcement-learning\\p2_continuous-control\\wandb\\run-20191120_144308-rz0f5h3z\\wandb-events.jsonl\n",
      "INFO:wandb.run_manager:file/dir modified: D:\\Code\\DRL_udacity\\deep-reinforcement-learning\\p2_continuous-control\\wandb\\run-20191120_144308-rz0f5h3z\\wandb-metadata.json\n",
      "INFO:wandb.run_manager:file/dir modified: D:\\Code\\DRL_udacity\\deep-reinforcement-learning\\p2_continuous-control\\wandb\\run-20191120_144308-rz0f5h3z\\wandb-history.jsonl\n",
      "INFO:wandb.run_manager:file/dir modified: D:\\Code\\DRL_udacity\\deep-reinforcement-learning\\p2_continuous-control\\wandb\\run-20191120_144308-rz0f5h3z\\wandb-summary.json\n"
     ]
    },
    {
     "name": "stdout",
     "output_type": "stream",
     "text": [
      "\r",
      "Episode 53\tAverage Score: 14.90\tScore: 37.18\n"
     ]
    },
    {
     "name": "stderr",
     "output_type": "stream",
     "text": [
      "INFO:wandb.run_manager:file/dir modified: D:\\Code\\DRL_udacity\\deep-reinforcement-learning\\p2_continuous-control\\wandb\\run-20191120_144308-rz0f5h3z\\wandb-metadata.json\n",
      "INFO:wandb.run_manager:file/dir modified: D:\\Code\\DRL_udacity\\deep-reinforcement-learning\\p2_continuous-control\\wandb\\run-20191120_144308-rz0f5h3z\\wandb-events.jsonl\n"
     ]
    },
    {
     "name": "stdout",
     "output_type": "stream",
     "text": [
      "\r",
      "Episode 54\tAverage Score: 15.30\tScore: 36.42\n"
     ]
    },
    {
     "name": "stderr",
     "output_type": "stream",
     "text": [
      "INFO:wandb.run_manager:file/dir modified: D:\\Code\\DRL_udacity\\deep-reinforcement-learning\\p2_continuous-control\\wandb\\run-20191120_144308-rz0f5h3z\\wandb-history.jsonl\n",
      "INFO:wandb.run_manager:file/dir modified: D:\\Code\\DRL_udacity\\deep-reinforcement-learning\\p2_continuous-control\\wandb\\run-20191120_144308-rz0f5h3z\\wandb-summary.json\n",
      "INFO:wandb.run_manager:file/dir modified: D:\\Code\\DRL_udacity\\deep-reinforcement-learning\\p2_continuous-control\\wandb\\run-20191120_144308-rz0f5h3z\\wandb-metadata.json\n",
      "INFO:wandb.run_manager:file/dir modified: D:\\Code\\DRL_udacity\\deep-reinforcement-learning\\p2_continuous-control\\wandb\\run-20191120_144308-rz0f5h3z\\wandb-metadata.json\n"
     ]
    },
    {
     "name": "stdout",
     "output_type": "stream",
     "text": [
      "\r",
      "Episode 55\tAverage Score: 15.69\tScore: 36.80\n"
     ]
    },
    {
     "name": "stderr",
     "output_type": "stream",
     "text": [
      "INFO:wandb.run_manager:file/dir modified: D:\\Code\\DRL_udacity\\deep-reinforcement-learning\\p2_continuous-control\\wandb\\run-20191120_144308-rz0f5h3z\\wandb-history.jsonl\n",
      "INFO:wandb.run_manager:file/dir modified: D:\\Code\\DRL_udacity\\deep-reinforcement-learning\\p2_continuous-control\\wandb\\run-20191120_144308-rz0f5h3z\\wandb-summary.json\n",
      "INFO:wandb.run_manager:file/dir modified: D:\\Code\\DRL_udacity\\deep-reinforcement-learning\\p2_continuous-control\\wandb\\run-20191120_144308-rz0f5h3z\\wandb-events.jsonl\n",
      "INFO:wandb.run_manager:file/dir modified: D:\\Code\\DRL_udacity\\deep-reinforcement-learning\\p2_continuous-control\\wandb\\run-20191120_144308-rz0f5h3z\\wandb-metadata.json\n"
     ]
    },
    {
     "name": "stdout",
     "output_type": "stream",
     "text": [
      "\r",
      "Episode 56\tAverage Score: 16.07\tScore: 37.18\n"
     ]
    },
    {
     "name": "stderr",
     "output_type": "stream",
     "text": [
      "INFO:wandb.run_manager:file/dir modified: D:\\Code\\DRL_udacity\\deep-reinforcement-learning\\p2_continuous-control\\wandb\\run-20191120_144308-rz0f5h3z\\wandb-history.jsonl\n",
      "INFO:wandb.run_manager:file/dir modified: D:\\Code\\DRL_udacity\\deep-reinforcement-learning\\p2_continuous-control\\wandb\\run-20191120_144308-rz0f5h3z\\wandb-summary.json\n",
      "INFO:wandb.run_manager:file/dir modified: D:\\Code\\DRL_udacity\\deep-reinforcement-learning\\p2_continuous-control\\wandb\\run-20191120_144308-rz0f5h3z\\wandb-metadata.json\n",
      "INFO:wandb.run_manager:file/dir modified: D:\\Code\\DRL_udacity\\deep-reinforcement-learning\\p2_continuous-control\\wandb\\run-20191120_144308-rz0f5h3z\\wandb-events.jsonl\n"
     ]
    },
    {
     "name": "stdout",
     "output_type": "stream",
     "text": [
      "\r",
      "Episode 57\tAverage Score: 16.44\tScore: 36.90\n"
     ]
    },
    {
     "name": "stderr",
     "output_type": "stream",
     "text": [
      "INFO:wandb.run_manager:file/dir modified: D:\\Code\\DRL_udacity\\deep-reinforcement-learning\\p2_continuous-control\\wandb\\run-20191120_144308-rz0f5h3z\\wandb-history.jsonl\n",
      "INFO:wandb.run_manager:file/dir modified: D:\\Code\\DRL_udacity\\deep-reinforcement-learning\\p2_continuous-control\\wandb\\run-20191120_144308-rz0f5h3z\\wandb-summary.json\n",
      "INFO:wandb.run_manager:file/dir modified: D:\\Code\\DRL_udacity\\deep-reinforcement-learning\\p2_continuous-control\\wandb\\run-20191120_144308-rz0f5h3z\\wandb-metadata.json\n",
      "INFO:wandb.run_manager:file/dir modified: D:\\Code\\DRL_udacity\\deep-reinforcement-learning\\p2_continuous-control\\wandb\\run-20191120_144308-rz0f5h3z\\wandb-metadata.json\n"
     ]
    },
    {
     "name": "stdout",
     "output_type": "stream",
     "text": [
      "\r",
      "Episode 58\tAverage Score: 16.79\tScore: 36.91\n"
     ]
    },
    {
     "name": "stderr",
     "output_type": "stream",
     "text": [
      "INFO:wandb.run_manager:file/dir modified: D:\\Code\\DRL_udacity\\deep-reinforcement-learning\\p2_continuous-control\\wandb\\run-20191120_144308-rz0f5h3z\\wandb-history.jsonl\n",
      "INFO:wandb.run_manager:file/dir modified: D:\\Code\\DRL_udacity\\deep-reinforcement-learning\\p2_continuous-control\\wandb\\run-20191120_144308-rz0f5h3z\\wandb-summary.json\n",
      "INFO:wandb.run_manager:file/dir modified: D:\\Code\\DRL_udacity\\deep-reinforcement-learning\\p2_continuous-control\\wandb\\run-20191120_144308-rz0f5h3z\\wandb-events.jsonl\n",
      "INFO:wandb.run_manager:file/dir modified: D:\\Code\\DRL_udacity\\deep-reinforcement-learning\\p2_continuous-control\\wandb\\run-20191120_144308-rz0f5h3z\\wandb-metadata.json\n"
     ]
    },
    {
     "name": "stdout",
     "output_type": "stream",
     "text": [
      "\r",
      "Episode 59\tAverage Score: 17.13\tScore: 36.73\n"
     ]
    },
    {
     "name": "stderr",
     "output_type": "stream",
     "text": [
      "INFO:wandb.run_manager:file/dir modified: D:\\Code\\DRL_udacity\\deep-reinforcement-learning\\p2_continuous-control\\wandb\\run-20191120_144308-rz0f5h3z\\wandb-history.jsonl\n",
      "INFO:wandb.run_manager:file/dir modified: D:\\Code\\DRL_udacity\\deep-reinforcement-learning\\p2_continuous-control\\wandb\\run-20191120_144308-rz0f5h3z\\wandb-summary.json\n",
      "INFO:wandb.run_manager:file/dir modified: D:\\Code\\DRL_udacity\\deep-reinforcement-learning\\p2_continuous-control\\wandb\\run-20191120_144308-rz0f5h3z\\wandb-metadata.json\n",
      "INFO:wandb.run_manager:file/dir modified: D:\\Code\\DRL_udacity\\deep-reinforcement-learning\\p2_continuous-control\\wandb\\run-20191120_144308-rz0f5h3z\\wandb-events.jsonl\n"
     ]
    },
    {
     "name": "stdout",
     "output_type": "stream",
     "text": [
      "\r",
      "Episode 60\tAverage Score: 17.47\tScore: 37.42\n",
      "\r",
      "Episode 60\tAverage Score: 17.47\n"
     ]
    },
    {
     "name": "stderr",
     "output_type": "stream",
     "text": [
      "INFO:wandb.run_manager:file/dir modified: D:\\Code\\DRL_udacity\\deep-reinforcement-learning\\p2_continuous-control\\wandb\\run-20191120_144308-rz0f5h3z\\wandb-history.jsonl\n",
      "INFO:wandb.run_manager:file/dir modified: D:\\Code\\DRL_udacity\\deep-reinforcement-learning\\p2_continuous-control\\wandb\\run-20191120_144308-rz0f5h3z\\wandb-summary.json\n",
      "INFO:wandb.run_manager:file/dir modified: D:\\Code\\DRL_udacity\\deep-reinforcement-learning\\p2_continuous-control\\wandb\\run-20191120_144308-rz0f5h3z\\wandb-metadata.json\n",
      "INFO:wandb.run_manager:file/dir modified: D:\\Code\\DRL_udacity\\deep-reinforcement-learning\\p2_continuous-control\\wandb\\run-20191120_144308-rz0f5h3z\\wandb-metadata.json\n",
      "INFO:wandb.run_manager:file/dir modified: D:\\Code\\DRL_udacity\\deep-reinforcement-learning\\p2_continuous-control\\wandb\\run-20191120_144308-rz0f5h3z\\wandb-events.jsonl\n"
     ]
    },
    {
     "name": "stdout",
     "output_type": "stream",
     "text": [
      "\r",
      "Episode 61\tAverage Score: 17.79\tScore: 37.39\n"
     ]
    },
    {
     "name": "stderr",
     "output_type": "stream",
     "text": [
      "INFO:wandb.run_manager:file/dir modified: D:\\Code\\DRL_udacity\\deep-reinforcement-learning\\p2_continuous-control\\wandb\\run-20191120_144308-rz0f5h3z\\wandb-history.jsonl\n",
      "INFO:wandb.run_manager:file/dir modified: D:\\Code\\DRL_udacity\\deep-reinforcement-learning\\p2_continuous-control\\wandb\\run-20191120_144308-rz0f5h3z\\wandb-summary.json\n",
      "INFO:wandb.run_manager:file/dir modified: D:\\Code\\DRL_udacity\\deep-reinforcement-learning\\p2_continuous-control\\wandb\\run-20191120_144308-rz0f5h3z\\wandb-metadata.json\n"
     ]
    },
    {
     "name": "stdout",
     "output_type": "stream",
     "text": [
      "\r",
      "Episode 62\tAverage Score: 18.12\tScore: 37.71\n"
     ]
    },
    {
     "name": "stderr",
     "output_type": "stream",
     "text": [
      "INFO:wandb.run_manager:file/dir modified: D:\\Code\\DRL_udacity\\deep-reinforcement-learning\\p2_continuous-control\\wandb\\run-20191120_144308-rz0f5h3z\\wandb-history.jsonl\n",
      "INFO:wandb.run_manager:file/dir modified: D:\\Code\\DRL_udacity\\deep-reinforcement-learning\\p2_continuous-control\\wandb\\run-20191120_144308-rz0f5h3z\\wandb-summary.json\n",
      "INFO:wandb.run_manager:file/dir modified: D:\\Code\\DRL_udacity\\deep-reinforcement-learning\\p2_continuous-control\\wandb\\run-20191120_144308-rz0f5h3z\\wandb-metadata.json\n",
      "INFO:wandb.run_manager:file/dir modified: D:\\Code\\DRL_udacity\\deep-reinforcement-learning\\p2_continuous-control\\wandb\\run-20191120_144308-rz0f5h3z\\wandb-events.jsonl\n"
     ]
    },
    {
     "name": "stdout",
     "output_type": "stream",
     "text": [
      "\r",
      "Episode 63\tAverage Score: 18.43\tScore: 37.97\n"
     ]
    },
    {
     "name": "stderr",
     "output_type": "stream",
     "text": [
      "INFO:wandb.run_manager:file/dir modified: D:\\Code\\DRL_udacity\\deep-reinforcement-learning\\p2_continuous-control\\wandb\\run-20191120_144308-rz0f5h3z\\wandb-history.jsonl\n",
      "INFO:wandb.run_manager:file/dir modified: D:\\Code\\DRL_udacity\\deep-reinforcement-learning\\p2_continuous-control\\wandb\\run-20191120_144308-rz0f5h3z\\wandb-summary.json\n",
      "INFO:wandb.run_manager:file/dir modified: D:\\Code\\DRL_udacity\\deep-reinforcement-learning\\p2_continuous-control\\wandb\\run-20191120_144308-rz0f5h3z\\wandb-metadata.json\n",
      "INFO:wandb.run_manager:file/dir modified: D:\\Code\\DRL_udacity\\deep-reinforcement-learning\\p2_continuous-control\\wandb\\run-20191120_144308-rz0f5h3z\\wandb-events.jsonl\n",
      "INFO:wandb.run_manager:file/dir modified: D:\\Code\\DRL_udacity\\deep-reinforcement-learning\\p2_continuous-control\\wandb\\run-20191120_144308-rz0f5h3z\\wandb-metadata.json\n",
      "INFO:wandb.run_manager:file/dir modified: D:\\Code\\DRL_udacity\\deep-reinforcement-learning\\p2_continuous-control\\wandb\\run-20191120_144308-rz0f5h3z\\wandb-history.jsonl\n",
      "INFO:wandb.run_manager:file/dir modified: D:\\Code\\DRL_udacity\\deep-reinforcement-learning\\p2_continuous-control\\wandb\\run-20191120_144308-rz0f5h3z\\wandb-summary.json\n"
     ]
    },
    {
     "name": "stdout",
     "output_type": "stream",
     "text": [
      "\r",
      "Episode 64\tAverage Score: 18.74\tScore: 37.95\n"
     ]
    },
    {
     "name": "stderr",
     "output_type": "stream",
     "text": [
      "INFO:wandb.run_manager:file/dir modified: D:\\Code\\DRL_udacity\\deep-reinforcement-learning\\p2_continuous-control\\wandb\\run-20191120_144308-rz0f5h3z\\wandb-metadata.json\n"
     ]
    },
    {
     "name": "stdout",
     "output_type": "stream",
     "text": [
      "\r",
      "Episode 65\tAverage Score: 19.03\tScore: 37.56\n"
     ]
    },
    {
     "name": "stderr",
     "output_type": "stream",
     "text": [
      "INFO:wandb.run_manager:file/dir modified: D:\\Code\\DRL_udacity\\deep-reinforcement-learning\\p2_continuous-control\\wandb\\run-20191120_144308-rz0f5h3z\\wandb-history.jsonl\n",
      "INFO:wandb.run_manager:file/dir modified: D:\\Code\\DRL_udacity\\deep-reinforcement-learning\\p2_continuous-control\\wandb\\run-20191120_144308-rz0f5h3z\\wandb-summary.json\n",
      "INFO:wandb.run_manager:file/dir modified: D:\\Code\\DRL_udacity\\deep-reinforcement-learning\\p2_continuous-control\\wandb\\run-20191120_144308-rz0f5h3z\\wandb-events.jsonl\n",
      "INFO:wandb.run_manager:file/dir modified: D:\\Code\\DRL_udacity\\deep-reinforcement-learning\\p2_continuous-control\\wandb\\run-20191120_144308-rz0f5h3z\\wandb-metadata.json\n"
     ]
    },
    {
     "name": "stdout",
     "output_type": "stream",
     "text": [
      "\r",
      "Episode 66\tAverage Score: 19.31\tScore: 37.51\n"
     ]
    },
    {
     "name": "stderr",
     "output_type": "stream",
     "text": [
      "INFO:wandb.run_manager:file/dir modified: D:\\Code\\DRL_udacity\\deep-reinforcement-learning\\p2_continuous-control\\wandb\\run-20191120_144308-rz0f5h3z\\wandb-history.jsonl\n",
      "INFO:wandb.run_manager:file/dir modified: D:\\Code\\DRL_udacity\\deep-reinforcement-learning\\p2_continuous-control\\wandb\\run-20191120_144308-rz0f5h3z\\wandb-summary.json\n",
      "INFO:wandb.run_manager:file/dir modified: D:\\Code\\DRL_udacity\\deep-reinforcement-learning\\p2_continuous-control\\wandb\\run-20191120_144308-rz0f5h3z\\wandb-metadata.json\n",
      "INFO:wandb.run_manager:file/dir modified: D:\\Code\\DRL_udacity\\deep-reinforcement-learning\\p2_continuous-control\\wandb\\run-20191120_144308-rz0f5h3z\\wandb-events.jsonl\n",
      "INFO:wandb.run_manager:file/dir modified: D:\\Code\\DRL_udacity\\deep-reinforcement-learning\\p2_continuous-control\\wandb\\run-20191120_144308-rz0f5h3z\\wandb-metadata.json\n",
      "INFO:wandb.run_manager:file/dir modified: D:\\Code\\DRL_udacity\\deep-reinforcement-learning\\p2_continuous-control\\wandb\\run-20191120_144308-rz0f5h3z\\wandb-history.jsonl\n",
      "INFO:wandb.run_manager:file/dir modified: D:\\Code\\DRL_udacity\\deep-reinforcement-learning\\p2_continuous-control\\wandb\\run-20191120_144308-rz0f5h3z\\wandb-summary.json\n"
     ]
    },
    {
     "name": "stdout",
     "output_type": "stream",
     "text": [
      "\r",
      "Episode 67\tAverage Score: 19.58\tScore: 37.68\n"
     ]
    },
    {
     "name": "stderr",
     "output_type": "stream",
     "text": [
      "INFO:wandb.run_manager:file/dir modified: D:\\Code\\DRL_udacity\\deep-reinforcement-learning\\p2_continuous-control\\wandb\\run-20191120_144308-rz0f5h3z\\wandb-metadata.json\n"
     ]
    },
    {
     "name": "stdout",
     "output_type": "stream",
     "text": [
      "\r",
      "Episode 68\tAverage Score: 19.84\tScore: 37.18\n"
     ]
    },
    {
     "name": "stderr",
     "output_type": "stream",
     "text": [
      "INFO:wandb.run_manager:file/dir modified: D:\\Code\\DRL_udacity\\deep-reinforcement-learning\\p2_continuous-control\\wandb\\run-20191120_144308-rz0f5h3z\\wandb-history.jsonl\n",
      "INFO:wandb.run_manager:file/dir modified: D:\\Code\\DRL_udacity\\deep-reinforcement-learning\\p2_continuous-control\\wandb\\run-20191120_144308-rz0f5h3z\\wandb-summary.json\n",
      "INFO:wandb.run_manager:file/dir modified: D:\\Code\\DRL_udacity\\deep-reinforcement-learning\\p2_continuous-control\\wandb\\run-20191120_144308-rz0f5h3z\\wandb-events.jsonl\n",
      "INFO:wandb.run_manager:file/dir modified: D:\\Code\\DRL_udacity\\deep-reinforcement-learning\\p2_continuous-control\\wandb\\run-20191120_144308-rz0f5h3z\\wandb-metadata.json\n"
     ]
    },
    {
     "name": "stdout",
     "output_type": "stream",
     "text": [
      "\r",
      "Episode 69\tAverage Score: 20.10\tScore: 38.04\n"
     ]
    },
    {
     "name": "stderr",
     "output_type": "stream",
     "text": [
      "INFO:wandb.run_manager:file/dir modified: D:\\Code\\DRL_udacity\\deep-reinforcement-learning\\p2_continuous-control\\wandb\\run-20191120_144308-rz0f5h3z\\wandb-history.jsonl\n",
      "INFO:wandb.run_manager:file/dir modified: D:\\Code\\DRL_udacity\\deep-reinforcement-learning\\p2_continuous-control\\wandb\\run-20191120_144308-rz0f5h3z\\wandb-summary.json\n",
      "INFO:wandb.run_manager:file/dir modified: D:\\Code\\DRL_udacity\\deep-reinforcement-learning\\p2_continuous-control\\wandb\\run-20191120_144308-rz0f5h3z\\wandb-metadata.json\n",
      "INFO:wandb.run_manager:file/dir modified: D:\\Code\\DRL_udacity\\deep-reinforcement-learning\\p2_continuous-control\\wandb\\run-20191120_144308-rz0f5h3z\\wandb-events.jsonl\n",
      "INFO:wandb.run_manager:file/dir modified: D:\\Code\\DRL_udacity\\deep-reinforcement-learning\\p2_continuous-control\\wandb\\run-20191120_144308-rz0f5h3z\\wandb-metadata.json\n"
     ]
    },
    {
     "name": "stdout",
     "output_type": "stream",
     "text": [
      "\r",
      "Episode 70\tAverage Score: 20.36\tScore: 37.77\n"
     ]
    },
    {
     "name": "stderr",
     "output_type": "stream",
     "text": [
      "INFO:wandb.run_manager:file/dir modified: D:\\Code\\DRL_udacity\\deep-reinforcement-learning\\p2_continuous-control\\wandb\\run-20191120_144308-rz0f5h3z\\wandb-history.jsonl\n",
      "INFO:wandb.run_manager:file/dir modified: D:\\Code\\DRL_udacity\\deep-reinforcement-learning\\p2_continuous-control\\wandb\\run-20191120_144308-rz0f5h3z\\wandb-summary.json\n",
      "INFO:wandb.run_manager:file/dir modified: D:\\Code\\DRL_udacity\\deep-reinforcement-learning\\p2_continuous-control\\wandb\\run-20191120_144308-rz0f5h3z\\wandb-metadata.json\n"
     ]
    },
    {
     "name": "stdout",
     "output_type": "stream",
     "text": [
      "\r",
      "Episode 71\tAverage Score: 20.60\tScore: 37.67\n"
     ]
    },
    {
     "name": "stderr",
     "output_type": "stream",
     "text": [
      "INFO:wandb.run_manager:file/dir modified: D:\\Code\\DRL_udacity\\deep-reinforcement-learning\\p2_continuous-control\\wandb\\run-20191120_144308-rz0f5h3z\\wandb-history.jsonl\n",
      "INFO:wandb.run_manager:file/dir modified: D:\\Code\\DRL_udacity\\deep-reinforcement-learning\\p2_continuous-control\\wandb\\run-20191120_144308-rz0f5h3z\\wandb-summary.json\n",
      "INFO:wandb.run_manager:file/dir modified: D:\\Code\\DRL_udacity\\deep-reinforcement-learning\\p2_continuous-control\\wandb\\run-20191120_144308-rz0f5h3z\\wandb-events.jsonl\n",
      "INFO:wandb.run_manager:file/dir modified: D:\\Code\\DRL_udacity\\deep-reinforcement-learning\\p2_continuous-control\\wandb\\run-20191120_144308-rz0f5h3z\\wandb-metadata.json\n"
     ]
    },
    {
     "name": "stdout",
     "output_type": "stream",
     "text": [
      "\r",
      "Episode 72\tAverage Score: 20.83\tScore: 37.14\n"
     ]
    },
    {
     "name": "stderr",
     "output_type": "stream",
     "text": [
      "INFO:wandb.run_manager:file/dir modified: D:\\Code\\DRL_udacity\\deep-reinforcement-learning\\p2_continuous-control\\wandb\\run-20191120_144308-rz0f5h3z\\wandb-history.jsonl\n",
      "INFO:wandb.run_manager:file/dir modified: D:\\Code\\DRL_udacity\\deep-reinforcement-learning\\p2_continuous-control\\wandb\\run-20191120_144308-rz0f5h3z\\wandb-summary.json\n",
      "INFO:wandb.run_manager:file/dir modified: D:\\Code\\DRL_udacity\\deep-reinforcement-learning\\p2_continuous-control\\wandb\\run-20191120_144308-rz0f5h3z\\wandb-metadata.json\n",
      "INFO:wandb.run_manager:file/dir modified: D:\\Code\\DRL_udacity\\deep-reinforcement-learning\\p2_continuous-control\\wandb\\run-20191120_144308-rz0f5h3z\\wandb-events.jsonl\n",
      "INFO:wandb.run_manager:file/dir modified: D:\\Code\\DRL_udacity\\deep-reinforcement-learning\\p2_continuous-control\\wandb\\run-20191120_144308-rz0f5h3z\\wandb-metadata.json\n"
     ]
    },
    {
     "name": "stdout",
     "output_type": "stream",
     "text": [
      "\r",
      "Episode 73\tAverage Score: 21.06\tScore: 37.50\n"
     ]
    },
    {
     "name": "stderr",
     "output_type": "stream",
     "text": [
      "INFO:wandb.run_manager:file/dir modified: D:\\Code\\DRL_udacity\\deep-reinforcement-learning\\p2_continuous-control\\wandb\\run-20191120_144308-rz0f5h3z\\wandb-history.jsonl\n",
      "INFO:wandb.run_manager:file/dir modified: D:\\Code\\DRL_udacity\\deep-reinforcement-learning\\p2_continuous-control\\wandb\\run-20191120_144308-rz0f5h3z\\wandb-summary.json\n",
      "INFO:wandb.run_manager:file/dir modified: D:\\Code\\DRL_udacity\\deep-reinforcement-learning\\p2_continuous-control\\wandb\\run-20191120_144308-rz0f5h3z\\wandb-metadata.json\n",
      "INFO:wandb.run_manager:file/dir modified: D:\\Code\\DRL_udacity\\deep-reinforcement-learning\\p2_continuous-control\\wandb\\run-20191120_144308-rz0f5h3z\\wandb-events.jsonl\n"
     ]
    },
    {
     "name": "stdout",
     "output_type": "stream",
     "text": [
      "\r",
      "Episode 74\tAverage Score: 21.28\tScore: 37.86\n"
     ]
    },
    {
     "name": "stderr",
     "output_type": "stream",
     "text": [
      "INFO:wandb.run_manager:file/dir modified: D:\\Code\\DRL_udacity\\deep-reinforcement-learning\\p2_continuous-control\\wandb\\run-20191120_144308-rz0f5h3z\\wandb-history.jsonl\n",
      "INFO:wandb.run_manager:file/dir modified: D:\\Code\\DRL_udacity\\deep-reinforcement-learning\\p2_continuous-control\\wandb\\run-20191120_144308-rz0f5h3z\\wandb-summary.json\n",
      "INFO:wandb.run_manager:file/dir modified: D:\\Code\\DRL_udacity\\deep-reinforcement-learning\\p2_continuous-control\\wandb\\run-20191120_144308-rz0f5h3z\\wandb-metadata.json\n"
     ]
    },
    {
     "name": "stdout",
     "output_type": "stream",
     "text": [
      "\r",
      "Episode 75\tAverage Score: 21.50\tScore: 37.48\n"
     ]
    },
    {
     "name": "stderr",
     "output_type": "stream",
     "text": [
      "INFO:wandb.run_manager:file/dir modified: D:\\Code\\DRL_udacity\\deep-reinforcement-learning\\p2_continuous-control\\wandb\\run-20191120_144308-rz0f5h3z\\wandb-history.jsonl\n",
      "INFO:wandb.run_manager:file/dir modified: D:\\Code\\DRL_udacity\\deep-reinforcement-learning\\p2_continuous-control\\wandb\\run-20191120_144308-rz0f5h3z\\wandb-summary.json\n",
      "INFO:wandb.run_manager:file/dir modified: D:\\Code\\DRL_udacity\\deep-reinforcement-learning\\p2_continuous-control\\wandb\\run-20191120_144308-rz0f5h3z\\wandb-metadata.json\n",
      "INFO:wandb.run_manager:file/dir modified: D:\\Code\\DRL_udacity\\deep-reinforcement-learning\\p2_continuous-control\\wandb\\run-20191120_144308-rz0f5h3z\\wandb-events.jsonl\n",
      "INFO:wandb.run_manager:file/dir modified: D:\\Code\\DRL_udacity\\deep-reinforcement-learning\\p2_continuous-control\\wandb\\run-20191120_144308-rz0f5h3z\\wandb-metadata.json\n"
     ]
    },
    {
     "name": "stdout",
     "output_type": "stream",
     "text": [
      "\r",
      "Episode 76\tAverage Score: 21.72\tScore: 37.83\n"
     ]
    },
    {
     "name": "stderr",
     "output_type": "stream",
     "text": [
      "INFO:wandb.run_manager:file/dir modified: D:\\Code\\DRL_udacity\\deep-reinforcement-learning\\p2_continuous-control\\wandb\\run-20191120_144308-rz0f5h3z\\wandb-history.jsonl\n",
      "INFO:wandb.run_manager:file/dir modified: D:\\Code\\DRL_udacity\\deep-reinforcement-learning\\p2_continuous-control\\wandb\\run-20191120_144308-rz0f5h3z\\wandb-summary.json\n",
      "INFO:wandb.run_manager:file/dir modified: D:\\Code\\DRL_udacity\\deep-reinforcement-learning\\p2_continuous-control\\wandb\\run-20191120_144308-rz0f5h3z\\wandb-metadata.json\n",
      "INFO:wandb.run_manager:file/dir modified: D:\\Code\\DRL_udacity\\deep-reinforcement-learning\\p2_continuous-control\\wandb\\run-20191120_144308-rz0f5h3z\\wandb-events.jsonl\n"
     ]
    },
    {
     "name": "stdout",
     "output_type": "stream",
     "text": [
      "\r",
      "Episode 77\tAverage Score: 21.93\tScore: 37.89\n"
     ]
    },
    {
     "name": "stderr",
     "output_type": "stream",
     "text": [
      "INFO:wandb.run_manager:file/dir modified: D:\\Code\\DRL_udacity\\deep-reinforcement-learning\\p2_continuous-control\\wandb\\run-20191120_144308-rz0f5h3z\\wandb-history.jsonl\n",
      "INFO:wandb.run_manager:file/dir modified: D:\\Code\\DRL_udacity\\deep-reinforcement-learning\\p2_continuous-control\\wandb\\run-20191120_144308-rz0f5h3z\\wandb-summary.json\n",
      "INFO:wandb.run_manager:file/dir modified: D:\\Code\\DRL_udacity\\deep-reinforcement-learning\\p2_continuous-control\\wandb\\run-20191120_144308-rz0f5h3z\\wandb-metadata.json\n",
      "INFO:wandb.run_manager:file/dir modified: D:\\Code\\DRL_udacity\\deep-reinforcement-learning\\p2_continuous-control\\wandb\\run-20191120_144308-rz0f5h3z\\wandb-history.jsonl\n",
      "INFO:wandb.run_manager:file/dir modified: D:\\Code\\DRL_udacity\\deep-reinforcement-learning\\p2_continuous-control\\wandb\\run-20191120_144308-rz0f5h3z\\wandb-summary.json\n"
     ]
    },
    {
     "name": "stdout",
     "output_type": "stream",
     "text": [
      "\r",
      "Episode 78\tAverage Score: 22.12\tScore: 37.34\n"
     ]
    },
    {
     "name": "stderr",
     "output_type": "stream",
     "text": [
      "INFO:wandb.run_manager:file/dir modified: D:\\Code\\DRL_udacity\\deep-reinforcement-learning\\p2_continuous-control\\wandb\\run-20191120_144308-rz0f5h3z\\wandb-metadata.json\n",
      "INFO:wandb.run_manager:file/dir modified: D:\\Code\\DRL_udacity\\deep-reinforcement-learning\\p2_continuous-control\\wandb\\run-20191120_144308-rz0f5h3z\\wandb-events.jsonl\n",
      "INFO:wandb.run_manager:file/dir modified: D:\\Code\\DRL_udacity\\deep-reinforcement-learning\\p2_continuous-control\\wandb\\run-20191120_144308-rz0f5h3z\\wandb-metadata.json\n"
     ]
    },
    {
     "name": "stdout",
     "output_type": "stream",
     "text": [
      "\r",
      "Episode 79\tAverage Score: 22.30\tScore: 35.93\n"
     ]
    },
    {
     "name": "stderr",
     "output_type": "stream",
     "text": [
      "INFO:wandb.run_manager:file/dir modified: D:\\Code\\DRL_udacity\\deep-reinforcement-learning\\p2_continuous-control\\wandb\\run-20191120_144308-rz0f5h3z\\wandb-history.jsonl\n",
      "INFO:wandb.run_manager:file/dir modified: D:\\Code\\DRL_udacity\\deep-reinforcement-learning\\p2_continuous-control\\wandb\\run-20191120_144308-rz0f5h3z\\wandb-summary.json\n",
      "INFO:wandb.run_manager:file/dir modified: D:\\Code\\DRL_udacity\\deep-reinforcement-learning\\p2_continuous-control\\wandb\\run-20191120_144308-rz0f5h3z\\wandb-events.jsonl\n",
      "INFO:wandb.run_manager:file/dir modified: D:\\Code\\DRL_udacity\\deep-reinforcement-learning\\p2_continuous-control\\wandb\\run-20191120_144308-rz0f5h3z\\wandb-metadata.json\n"
     ]
    },
    {
     "name": "stdout",
     "output_type": "stream",
     "text": [
      "\r",
      "Episode 80\tAverage Score: 22.48\tScore: 36.91\n",
      "\r",
      "Episode 80\tAverage Score: 22.48\n"
     ]
    },
    {
     "name": "stderr",
     "output_type": "stream",
     "text": [
      "INFO:wandb.run_manager:file/dir modified: D:\\Code\\DRL_udacity\\deep-reinforcement-learning\\p2_continuous-control\\wandb\\run-20191120_144308-rz0f5h3z\\wandb-history.jsonl\n",
      "INFO:wandb.run_manager:file/dir modified: D:\\Code\\DRL_udacity\\deep-reinforcement-learning\\p2_continuous-control\\wandb\\run-20191120_144308-rz0f5h3z\\wandb-summary.json\n",
      "INFO:wandb.run_manager:file/dir modified: D:\\Code\\DRL_udacity\\deep-reinforcement-learning\\p2_continuous-control\\wandb\\run-20191120_144308-rz0f5h3z\\wandb-metadata.json\n",
      "INFO:wandb.run_manager:file/dir modified: D:\\Code\\DRL_udacity\\deep-reinforcement-learning\\p2_continuous-control\\wandb\\run-20191120_144308-rz0f5h3z\\wandb-history.jsonl\n",
      "INFO:wandb.run_manager:file/dir modified: D:\\Code\\DRL_udacity\\deep-reinforcement-learning\\p2_continuous-control\\wandb\\run-20191120_144308-rz0f5h3z\\wandb-summary.json\n"
     ]
    },
    {
     "name": "stdout",
     "output_type": "stream",
     "text": [
      "\r",
      "Episode 81\tAverage Score: 22.66\tScore: 37.01\n"
     ]
    },
    {
     "name": "stderr",
     "output_type": "stream",
     "text": [
      "INFO:wandb.run_manager:file/dir modified: D:\\Code\\DRL_udacity\\deep-reinforcement-learning\\p2_continuous-control\\wandb\\run-20191120_144308-rz0f5h3z\\wandb-events.jsonl\n",
      "INFO:wandb.run_manager:file/dir modified: D:\\Code\\DRL_udacity\\deep-reinforcement-learning\\p2_continuous-control\\wandb\\run-20191120_144308-rz0f5h3z\\wandb-metadata.json\n",
      "INFO:wandb.run_manager:file/dir modified: D:\\Code\\DRL_udacity\\deep-reinforcement-learning\\p2_continuous-control\\wandb\\run-20191120_144308-rz0f5h3z\\wandb-metadata.json\n"
     ]
    },
    {
     "name": "stdout",
     "output_type": "stream",
     "text": [
      "\r",
      "Episode 82\tAverage Score: 22.83\tScore: 36.88\n"
     ]
    },
    {
     "name": "stderr",
     "output_type": "stream",
     "text": [
      "INFO:wandb.run_manager:file/dir modified: D:\\Code\\DRL_udacity\\deep-reinforcement-learning\\p2_continuous-control\\wandb\\run-20191120_144308-rz0f5h3z\\wandb-history.jsonl\n",
      "INFO:wandb.run_manager:file/dir modified: D:\\Code\\DRL_udacity\\deep-reinforcement-learning\\p2_continuous-control\\wandb\\run-20191120_144308-rz0f5h3z\\wandb-summary.json\n",
      "INFO:wandb.run_manager:file/dir modified: D:\\Code\\DRL_udacity\\deep-reinforcement-learning\\p2_continuous-control\\wandb\\run-20191120_144308-rz0f5h3z\\wandb-events.jsonl\n",
      "INFO:wandb.run_manager:file/dir modified: D:\\Code\\DRL_udacity\\deep-reinforcement-learning\\p2_continuous-control\\wandb\\run-20191120_144308-rz0f5h3z\\wandb-metadata.json\n"
     ]
    },
    {
     "name": "stdout",
     "output_type": "stream",
     "text": [
      "\r",
      "Episode 83\tAverage Score: 23.00\tScore: 36.98\n"
     ]
    },
    {
     "name": "stderr",
     "output_type": "stream",
     "text": [
      "INFO:wandb.run_manager:file/dir modified: D:\\Code\\DRL_udacity\\deep-reinforcement-learning\\p2_continuous-control\\wandb\\run-20191120_144308-rz0f5h3z\\wandb-history.jsonl\n",
      "INFO:wandb.run_manager:file/dir modified: D:\\Code\\DRL_udacity\\deep-reinforcement-learning\\p2_continuous-control\\wandb\\run-20191120_144308-rz0f5h3z\\wandb-summary.json\n",
      "INFO:wandb.run_manager:file/dir modified: D:\\Code\\DRL_udacity\\deep-reinforcement-learning\\p2_continuous-control\\wandb\\run-20191120_144308-rz0f5h3z\\wandb-metadata.json\n",
      "INFO:wandb.run_manager:file/dir modified: D:\\Code\\DRL_udacity\\deep-reinforcement-learning\\p2_continuous-control\\wandb\\run-20191120_144308-rz0f5h3z\\wandb-events.jsonl\n"
     ]
    },
    {
     "name": "stdout",
     "output_type": "stream",
     "text": [
      "\r",
      "Episode 84\tAverage Score: 23.18\tScore: 37.42\n"
     ]
    },
    {
     "name": "stderr",
     "output_type": "stream",
     "text": [
      "INFO:wandb.run_manager:file/dir modified: D:\\Code\\DRL_udacity\\deep-reinforcement-learning\\p2_continuous-control\\wandb\\run-20191120_144308-rz0f5h3z\\wandb-history.jsonl\n",
      "INFO:wandb.run_manager:file/dir modified: D:\\Code\\DRL_udacity\\deep-reinforcement-learning\\p2_continuous-control\\wandb\\run-20191120_144308-rz0f5h3z\\wandb-summary.json\n",
      "INFO:wandb.run_manager:file/dir modified: D:\\Code\\DRL_udacity\\deep-reinforcement-learning\\p2_continuous-control\\wandb\\run-20191120_144308-rz0f5h3z\\wandb-metadata.json\n"
     ]
    },
    {
     "name": "stdout",
     "output_type": "stream",
     "text": [
      "\r",
      "Episode 85\tAverage Score: 23.34\tScore: 37.15\n"
     ]
    },
    {
     "name": "stderr",
     "output_type": "stream",
     "text": [
      "INFO:wandb.run_manager:file/dir modified: D:\\Code\\DRL_udacity\\deep-reinforcement-learning\\p2_continuous-control\\wandb\\run-20191120_144308-rz0f5h3z\\wandb-metadata.json\n",
      "INFO:wandb.run_manager:file/dir modified: D:\\Code\\DRL_udacity\\deep-reinforcement-learning\\p2_continuous-control\\wandb\\run-20191120_144308-rz0f5h3z\\wandb-history.jsonl\n",
      "INFO:wandb.run_manager:file/dir modified: D:\\Code\\DRL_udacity\\deep-reinforcement-learning\\p2_continuous-control\\wandb\\run-20191120_144308-rz0f5h3z\\wandb-summary.json\n",
      "INFO:wandb.run_manager:file/dir modified: D:\\Code\\DRL_udacity\\deep-reinforcement-learning\\p2_continuous-control\\wandb\\run-20191120_144308-rz0f5h3z\\wandb-events.jsonl\n",
      "INFO:wandb.run_manager:file/dir modified: D:\\Code\\DRL_udacity\\deep-reinforcement-learning\\p2_continuous-control\\wandb\\run-20191120_144308-rz0f5h3z\\wandb-metadata.json\n",
      "INFO:wandb.run_manager:file/dir modified: D:\\Code\\DRL_udacity\\deep-reinforcement-learning\\p2_continuous-control\\wandb\\run-20191120_144308-rz0f5h3z\\wandb-history.jsonl\n",
      "INFO:wandb.run_manager:file/dir modified: D:\\Code\\DRL_udacity\\deep-reinforcement-learning\\p2_continuous-control\\wandb\\run-20191120_144308-rz0f5h3z\\wandb-summary.json\n"
     ]
    },
    {
     "name": "stdout",
     "output_type": "stream",
     "text": [
      "\r",
      "Episode 86\tAverage Score: 23.50\tScore: 36.99\n"
     ]
    },
    {
     "name": "stderr",
     "output_type": "stream",
     "text": [
      "INFO:wandb.run_manager:file/dir modified: D:\\Code\\DRL_udacity\\deep-reinforcement-learning\\p2_continuous-control\\wandb\\run-20191120_144308-rz0f5h3z\\wandb-metadata.json\n",
      "INFO:wandb.run_manager:file/dir modified: D:\\Code\\DRL_udacity\\deep-reinforcement-learning\\p2_continuous-control\\wandb\\run-20191120_144308-rz0f5h3z\\wandb-events.jsonl\n"
     ]
    },
    {
     "name": "stdout",
     "output_type": "stream",
     "text": [
      "\r",
      "Episode 87\tAverage Score: 23.65\tScore: 36.82\n"
     ]
    },
    {
     "name": "stderr",
     "output_type": "stream",
     "text": [
      "INFO:wandb.run_manager:file/dir modified: D:\\Code\\DRL_udacity\\deep-reinforcement-learning\\p2_continuous-control\\wandb\\run-20191120_144308-rz0f5h3z\\wandb-history.jsonl\n",
      "INFO:wandb.run_manager:file/dir modified: D:\\Code\\DRL_udacity\\deep-reinforcement-learning\\p2_continuous-control\\wandb\\run-20191120_144308-rz0f5h3z\\wandb-summary.json\n",
      "INFO:wandb.run_manager:file/dir modified: D:\\Code\\DRL_udacity\\deep-reinforcement-learning\\p2_continuous-control\\wandb\\run-20191120_144308-rz0f5h3z\\wandb-metadata.json\n"
     ]
    },
    {
     "name": "stdout",
     "output_type": "stream",
     "text": [
      "\r",
      "Episode 88\tAverage Score: 23.80\tScore: 36.57\n"
     ]
    },
    {
     "name": "stderr",
     "output_type": "stream",
     "text": [
      "INFO:wandb.run_manager:file/dir modified: D:\\Code\\DRL_udacity\\deep-reinforcement-learning\\p2_continuous-control\\wandb\\run-20191120_144308-rz0f5h3z\\wandb-metadata.json\n",
      "INFO:wandb.run_manager:file/dir modified: D:\\Code\\DRL_udacity\\deep-reinforcement-learning\\p2_continuous-control\\wandb\\run-20191120_144308-rz0f5h3z\\wandb-history.jsonl\n",
      "INFO:wandb.run_manager:file/dir modified: D:\\Code\\DRL_udacity\\deep-reinforcement-learning\\p2_continuous-control\\wandb\\run-20191120_144308-rz0f5h3z\\wandb-summary.json\n",
      "INFO:wandb.run_manager:file/dir modified: D:\\Code\\DRL_udacity\\deep-reinforcement-learning\\p2_continuous-control\\wandb\\run-20191120_144308-rz0f5h3z\\wandb-events.jsonl\n",
      "INFO:wandb.run_manager:file/dir modified: D:\\Code\\DRL_udacity\\deep-reinforcement-learning\\p2_continuous-control\\wandb\\run-20191120_144308-rz0f5h3z\\wandb-metadata.json\n"
     ]
    },
    {
     "name": "stdout",
     "output_type": "stream",
     "text": [
      "\r",
      "Episode 89\tAverage Score: 23.94\tScore: 36.48\n"
     ]
    },
    {
     "name": "stderr",
     "output_type": "stream",
     "text": [
      "INFO:wandb.run_manager:file/dir modified: D:\\Code\\DRL_udacity\\deep-reinforcement-learning\\p2_continuous-control\\wandb\\run-20191120_144308-rz0f5h3z\\wandb-history.jsonl\n",
      "INFO:wandb.run_manager:file/dir modified: D:\\Code\\DRL_udacity\\deep-reinforcement-learning\\p2_continuous-control\\wandb\\run-20191120_144308-rz0f5h3z\\wandb-summary.json\n",
      "INFO:wandb.run_manager:file/dir modified: D:\\Code\\DRL_udacity\\deep-reinforcement-learning\\p2_continuous-control\\wandb\\run-20191120_144308-rz0f5h3z\\wandb-metadata.json\n",
      "INFO:wandb.run_manager:file/dir modified: D:\\Code\\DRL_udacity\\deep-reinforcement-learning\\p2_continuous-control\\wandb\\run-20191120_144308-rz0f5h3z\\wandb-events.jsonl\n"
     ]
    },
    {
     "name": "stdout",
     "output_type": "stream",
     "text": [
      "\r",
      "Episode 90\tAverage Score: 24.08\tScore: 36.48\n"
     ]
    },
    {
     "name": "stderr",
     "output_type": "stream",
     "text": [
      "INFO:wandb.run_manager:file/dir modified: D:\\Code\\DRL_udacity\\deep-reinforcement-learning\\p2_continuous-control\\wandb\\run-20191120_144308-rz0f5h3z\\wandb-history.jsonl\n",
      "INFO:wandb.run_manager:file/dir modified: D:\\Code\\DRL_udacity\\deep-reinforcement-learning\\p2_continuous-control\\wandb\\run-20191120_144308-rz0f5h3z\\wandb-summary.json\n",
      "INFO:wandb.run_manager:file/dir modified: D:\\Code\\DRL_udacity\\deep-reinforcement-learning\\p2_continuous-control\\wandb\\run-20191120_144308-rz0f5h3z\\wandb-metadata.json\n"
     ]
    },
    {
     "name": "stdout",
     "output_type": "stream",
     "text": [
      "\r",
      "Episode 91\tAverage Score: 24.23\tScore: 37.49\n"
     ]
    },
    {
     "name": "stderr",
     "output_type": "stream",
     "text": [
      "INFO:wandb.run_manager:file/dir modified: D:\\Code\\DRL_udacity\\deep-reinforcement-learning\\p2_continuous-control\\wandb\\run-20191120_144308-rz0f5h3z\\wandb-history.jsonl\n",
      "INFO:wandb.run_manager:file/dir modified: D:\\Code\\DRL_udacity\\deep-reinforcement-learning\\p2_continuous-control\\wandb\\run-20191120_144308-rz0f5h3z\\wandb-summary.json\n",
      "INFO:wandb.run_manager:file/dir modified: D:\\Code\\DRL_udacity\\deep-reinforcement-learning\\p2_continuous-control\\wandb\\run-20191120_144308-rz0f5h3z\\wandb-metadata.json\n",
      "INFO:wandb.run_manager:file/dir modified: D:\\Code\\DRL_udacity\\deep-reinforcement-learning\\p2_continuous-control\\wandb\\run-20191120_144308-rz0f5h3z\\wandb-events.jsonl\n",
      "INFO:wandb.run_manager:file/dir modified: D:\\Code\\DRL_udacity\\deep-reinforcement-learning\\p2_continuous-control\\wandb\\run-20191120_144308-rz0f5h3z\\wandb-metadata.json\n"
     ]
    },
    {
     "name": "stdout",
     "output_type": "stream",
     "text": [
      "\r",
      "Episode 92\tAverage Score: 24.37\tScore: 37.65\n"
     ]
    },
    {
     "name": "stderr",
     "output_type": "stream",
     "text": [
      "INFO:wandb.run_manager:file/dir modified: D:\\Code\\DRL_udacity\\deep-reinforcement-learning\\p2_continuous-control\\wandb\\run-20191120_144308-rz0f5h3z\\wandb-history.jsonl\n",
      "INFO:wandb.run_manager:file/dir modified: D:\\Code\\DRL_udacity\\deep-reinforcement-learning\\p2_continuous-control\\wandb\\run-20191120_144308-rz0f5h3z\\wandb-summary.json\n",
      "INFO:wandb.run_manager:file/dir modified: D:\\Code\\DRL_udacity\\deep-reinforcement-learning\\p2_continuous-control\\wandb\\run-20191120_144308-rz0f5h3z\\wandb-metadata.json\n",
      "INFO:wandb.run_manager:file/dir modified: D:\\Code\\DRL_udacity\\deep-reinforcement-learning\\p2_continuous-control\\wandb\\run-20191120_144308-rz0f5h3z\\wandb-events.jsonl\n"
     ]
    },
    {
     "name": "stdout",
     "output_type": "stream",
     "text": [
      "\r",
      "Episode 93\tAverage Score: 24.51\tScore: 36.81\n"
     ]
    },
    {
     "name": "stderr",
     "output_type": "stream",
     "text": [
      "INFO:wandb.run_manager:file/dir modified: D:\\Code\\DRL_udacity\\deep-reinforcement-learning\\p2_continuous-control\\wandb\\run-20191120_144308-rz0f5h3z\\wandb-history.jsonl\n",
      "INFO:wandb.run_manager:file/dir modified: D:\\Code\\DRL_udacity\\deep-reinforcement-learning\\p2_continuous-control\\wandb\\run-20191120_144308-rz0f5h3z\\wandb-summary.json\n",
      "INFO:wandb.run_manager:file/dir modified: D:\\Code\\DRL_udacity\\deep-reinforcement-learning\\p2_continuous-control\\wandb\\run-20191120_144308-rz0f5h3z\\wandb-metadata.json\n"
     ]
    },
    {
     "name": "stdout",
     "output_type": "stream",
     "text": [
      "\r",
      "Episode 94\tAverage Score: 24.64\tScore: 37.36\n"
     ]
    },
    {
     "name": "stderr",
     "output_type": "stream",
     "text": [
      "INFO:wandb.run_manager:file/dir modified: D:\\Code\\DRL_udacity\\deep-reinforcement-learning\\p2_continuous-control\\wandb\\run-20191120_144308-rz0f5h3z\\wandb-history.jsonl\n",
      "INFO:wandb.run_manager:file/dir modified: D:\\Code\\DRL_udacity\\deep-reinforcement-learning\\p2_continuous-control\\wandb\\run-20191120_144308-rz0f5h3z\\wandb-summary.json\n",
      "INFO:wandb.run_manager:file/dir modified: D:\\Code\\DRL_udacity\\deep-reinforcement-learning\\p2_continuous-control\\wandb\\run-20191120_144308-rz0f5h3z\\wandb-events.jsonl\n",
      "INFO:wandb.run_manager:file/dir modified: D:\\Code\\DRL_udacity\\deep-reinforcement-learning\\p2_continuous-control\\wandb\\run-20191120_144308-rz0f5h3z\\wandb-metadata.json\n",
      "INFO:wandb.run_manager:file/dir modified: D:\\Code\\DRL_udacity\\deep-reinforcement-learning\\p2_continuous-control\\wandb\\run-20191120_144308-rz0f5h3z\\wandb-metadata.json\n"
     ]
    },
    {
     "name": "stdout",
     "output_type": "stream",
     "text": [
      "\r",
      "Episode 95\tAverage Score: 24.77\tScore: 36.96\n"
     ]
    },
    {
     "name": "stderr",
     "output_type": "stream",
     "text": [
      "INFO:wandb.run_manager:file/dir modified: D:\\Code\\DRL_udacity\\deep-reinforcement-learning\\p2_continuous-control\\wandb\\run-20191120_144308-rz0f5h3z\\wandb-history.jsonl\n",
      "INFO:wandb.run_manager:file/dir modified: D:\\Code\\DRL_udacity\\deep-reinforcement-learning\\p2_continuous-control\\wandb\\run-20191120_144308-rz0f5h3z\\wandb-summary.json\n",
      "INFO:wandb.run_manager:file/dir modified: D:\\Code\\DRL_udacity\\deep-reinforcement-learning\\p2_continuous-control\\wandb\\run-20191120_144308-rz0f5h3z\\wandb-events.jsonl\n",
      "INFO:wandb.run_manager:file/dir modified: D:\\Code\\DRL_udacity\\deep-reinforcement-learning\\p2_continuous-control\\wandb\\run-20191120_144308-rz0f5h3z\\wandb-metadata.json\n"
     ]
    },
    {
     "name": "stdout",
     "output_type": "stream",
     "text": [
      "\r",
      "Episode 96\tAverage Score: 24.90\tScore: 37.05\n"
     ]
    },
    {
     "name": "stderr",
     "output_type": "stream",
     "text": [
      "INFO:wandb.run_manager:file/dir modified: D:\\Code\\DRL_udacity\\deep-reinforcement-learning\\p2_continuous-control\\wandb\\run-20191120_144308-rz0f5h3z\\wandb-history.jsonl\n",
      "INFO:wandb.run_manager:file/dir modified: D:\\Code\\DRL_udacity\\deep-reinforcement-learning\\p2_continuous-control\\wandb\\run-20191120_144308-rz0f5h3z\\wandb-summary.json\n",
      "INFO:wandb.run_manager:file/dir modified: D:\\Code\\DRL_udacity\\deep-reinforcement-learning\\p2_continuous-control\\wandb\\run-20191120_144308-rz0f5h3z\\wandb-metadata.json\n",
      "INFO:wandb.run_manager:file/dir modified: D:\\Code\\DRL_udacity\\deep-reinforcement-learning\\p2_continuous-control\\wandb\\run-20191120_144308-rz0f5h3z\\wandb-events.jsonl\n"
     ]
    },
    {
     "name": "stdout",
     "output_type": "stream",
     "text": [
      "\r",
      "Episode 97\tAverage Score: 25.03\tScore: 37.17\n"
     ]
    },
    {
     "name": "stderr",
     "output_type": "stream",
     "text": [
      "INFO:wandb.run_manager:file/dir modified: D:\\Code\\DRL_udacity\\deep-reinforcement-learning\\p2_continuous-control\\wandb\\run-20191120_144308-rz0f5h3z\\wandb-history.jsonl\n",
      "INFO:wandb.run_manager:file/dir modified: D:\\Code\\DRL_udacity\\deep-reinforcement-learning\\p2_continuous-control\\wandb\\run-20191120_144308-rz0f5h3z\\wandb-summary.json\n",
      "INFO:wandb.run_manager:file/dir modified: D:\\Code\\DRL_udacity\\deep-reinforcement-learning\\p2_continuous-control\\wandb\\run-20191120_144308-rz0f5h3z\\wandb-metadata.json\n",
      "INFO:wandb.run_manager:file/dir modified: D:\\Code\\DRL_udacity\\deep-reinforcement-learning\\p2_continuous-control\\wandb\\run-20191120_144308-rz0f5h3z\\wandb-metadata.json\n"
     ]
    },
    {
     "name": "stdout",
     "output_type": "stream",
     "text": [
      "\r",
      "Episode 98\tAverage Score: 25.15\tScore: 37.29\n"
     ]
    },
    {
     "name": "stderr",
     "output_type": "stream",
     "text": [
      "INFO:wandb.run_manager:file/dir modified: D:\\Code\\DRL_udacity\\deep-reinforcement-learning\\p2_continuous-control\\wandb\\run-20191120_144308-rz0f5h3z\\wandb-history.jsonl\n",
      "INFO:wandb.run_manager:file/dir modified: D:\\Code\\DRL_udacity\\deep-reinforcement-learning\\p2_continuous-control\\wandb\\run-20191120_144308-rz0f5h3z\\wandb-summary.json\n",
      "INFO:wandb.run_manager:file/dir modified: D:\\Code\\DRL_udacity\\deep-reinforcement-learning\\p2_continuous-control\\wandb\\run-20191120_144308-rz0f5h3z\\wandb-events.jsonl\n",
      "INFO:wandb.run_manager:file/dir modified: D:\\Code\\DRL_udacity\\deep-reinforcement-learning\\p2_continuous-control\\wandb\\run-20191120_144308-rz0f5h3z\\wandb-metadata.json\n"
     ]
    },
    {
     "name": "stdout",
     "output_type": "stream",
     "text": [
      "\r",
      "Episode 99\tAverage Score: 25.27\tScore: 37.20\n"
     ]
    },
    {
     "name": "stderr",
     "output_type": "stream",
     "text": [
      "INFO:wandb.run_manager:file/dir modified: D:\\Code\\DRL_udacity\\deep-reinforcement-learning\\p2_continuous-control\\wandb\\run-20191120_144308-rz0f5h3z\\wandb-history.jsonl\n",
      "INFO:wandb.run_manager:file/dir modified: D:\\Code\\DRL_udacity\\deep-reinforcement-learning\\p2_continuous-control\\wandb\\run-20191120_144308-rz0f5h3z\\wandb-summary.json\n",
      "INFO:wandb.run_manager:file/dir modified: D:\\Code\\DRL_udacity\\deep-reinforcement-learning\\p2_continuous-control\\wandb\\run-20191120_144308-rz0f5h3z\\wandb-metadata.json\n",
      "INFO:wandb.run_manager:file/dir modified: D:\\Code\\DRL_udacity\\deep-reinforcement-learning\\p2_continuous-control\\wandb\\run-20191120_144308-rz0f5h3z\\wandb-events.jsonl\n"
     ]
    },
    {
     "name": "stdout",
     "output_type": "stream",
     "text": [
      "\r",
      "Episode 100\tAverage Score: 25.39\tScore: 36.66\n",
      "\r",
      "Episode 100\tAverage Score: 25.39\n"
     ]
    },
    {
     "name": "stderr",
     "output_type": "stream",
     "text": [
      "INFO:wandb.run_manager:file/dir modified: D:\\Code\\DRL_udacity\\deep-reinforcement-learning\\p2_continuous-control\\wandb\\run-20191120_144308-rz0f5h3z\\wandb-history.jsonl\n",
      "INFO:wandb.run_manager:file/dir modified: D:\\Code\\DRL_udacity\\deep-reinforcement-learning\\p2_continuous-control\\wandb\\run-20191120_144308-rz0f5h3z\\wandb-summary.json\n",
      "INFO:wandb.run_manager:file/dir modified: D:\\Code\\DRL_udacity\\deep-reinforcement-learning\\p2_continuous-control\\wandb\\run-20191120_144308-rz0f5h3z\\wandb-metadata.json\n",
      "INFO:wandb.run_manager:file/dir modified: D:\\Code\\DRL_udacity\\deep-reinforcement-learning\\p2_continuous-control\\wandb\\run-20191120_144308-rz0f5h3z\\wandb-metadata.json\n"
     ]
    },
    {
     "name": "stdout",
     "output_type": "stream",
     "text": [
      "\r",
      "Episode 101\tAverage Score: 25.74\tScore: 36.08\n"
     ]
    },
    {
     "name": "stderr",
     "output_type": "stream",
     "text": [
      "INFO:wandb.run_manager:file/dir modified: D:\\Code\\DRL_udacity\\deep-reinforcement-learning\\p2_continuous-control\\wandb\\run-20191120_144308-rz0f5h3z\\wandb-history.jsonl\n",
      "INFO:wandb.run_manager:file/dir modified: D:\\Code\\DRL_udacity\\deep-reinforcement-learning\\p2_continuous-control\\wandb\\run-20191120_144308-rz0f5h3z\\wandb-summary.json\n",
      "INFO:wandb.run_manager:file/dir modified: D:\\Code\\DRL_udacity\\deep-reinforcement-learning\\p2_continuous-control\\wandb\\run-20191120_144308-rz0f5h3z\\wandb-events.jsonl\n",
      "INFO:wandb.run_manager:file/dir modified: D:\\Code\\DRL_udacity\\deep-reinforcement-learning\\p2_continuous-control\\wandb\\run-20191120_144308-rz0f5h3z\\wandb-metadata.json\n"
     ]
    },
    {
     "name": "stdout",
     "output_type": "stream",
     "text": [
      "\r",
      "Episode 102\tAverage Score: 26.10\tScore: 36.59\n"
     ]
    },
    {
     "name": "stderr",
     "output_type": "stream",
     "text": [
      "INFO:wandb.run_manager:file/dir modified: D:\\Code\\DRL_udacity\\deep-reinforcement-learning\\p2_continuous-control\\wandb\\run-20191120_144308-rz0f5h3z\\wandb-history.jsonl\n",
      "INFO:wandb.run_manager:file/dir modified: D:\\Code\\DRL_udacity\\deep-reinforcement-learning\\p2_continuous-control\\wandb\\run-20191120_144308-rz0f5h3z\\wandb-summary.json\n",
      "INFO:wandb.run_manager:file/dir modified: D:\\Code\\DRL_udacity\\deep-reinforcement-learning\\p2_continuous-control\\wandb\\run-20191120_144308-rz0f5h3z\\wandb-metadata.json\n",
      "INFO:wandb.run_manager:file/dir modified: D:\\Code\\DRL_udacity\\deep-reinforcement-learning\\p2_continuous-control\\wandb\\run-20191120_144308-rz0f5h3z\\wandb-events.jsonl\n",
      "INFO:wandb.run_manager:file/dir modified: D:\\Code\\DRL_udacity\\deep-reinforcement-learning\\p2_continuous-control\\wandb\\run-20191120_144308-rz0f5h3z\\wandb-history.jsonl\n",
      "INFO:wandb.run_manager:file/dir modified: D:\\Code\\DRL_udacity\\deep-reinforcement-learning\\p2_continuous-control\\wandb\\run-20191120_144308-rz0f5h3z\\wandb-summary.json\n"
     ]
    },
    {
     "name": "stdout",
     "output_type": "stream",
     "text": [
      "\r",
      "Episode 103\tAverage Score: 26.47\tScore: 37.31\n"
     ]
    },
    {
     "name": "stderr",
     "output_type": "stream",
     "text": [
      "INFO:wandb.run_manager:file/dir modified: D:\\Code\\DRL_udacity\\deep-reinforcement-learning\\p2_continuous-control\\wandb\\run-20191120_144308-rz0f5h3z\\wandb-metadata.json\n",
      "INFO:wandb.run_manager:file/dir modified: D:\\Code\\DRL_udacity\\deep-reinforcement-learning\\p2_continuous-control\\wandb\\run-20191120_144308-rz0f5h3z\\wandb-metadata.json\n"
     ]
    },
    {
     "name": "stdout",
     "output_type": "stream",
     "text": [
      "\r",
      "Episode 104\tAverage Score: 26.83\tScore: 36.83\n"
     ]
    },
    {
     "name": "stderr",
     "output_type": "stream",
     "text": [
      "INFO:wandb.run_manager:file/dir modified: D:\\Code\\DRL_udacity\\deep-reinforcement-learning\\p2_continuous-control\\wandb\\run-20191120_144308-rz0f5h3z\\wandb-history.jsonl\n",
      "INFO:wandb.run_manager:file/dir modified: D:\\Code\\DRL_udacity\\deep-reinforcement-learning\\p2_continuous-control\\wandb\\run-20191120_144308-rz0f5h3z\\wandb-summary.json\n",
      "INFO:wandb.run_manager:file/dir modified: D:\\Code\\DRL_udacity\\deep-reinforcement-learning\\p2_continuous-control\\wandb\\run-20191120_144308-rz0f5h3z\\wandb-events.jsonl\n",
      "INFO:wandb.run_manager:file/dir modified: D:\\Code\\DRL_udacity\\deep-reinforcement-learning\\p2_continuous-control\\wandb\\run-20191120_144308-rz0f5h3z\\wandb-metadata.json\n",
      "INFO:wandb.run_manager:file/dir modified: D:\\Code\\DRL_udacity\\deep-reinforcement-learning\\p2_continuous-control\\wandb\\run-20191120_144308-rz0f5h3z\\wandb-history.jsonl\n",
      "INFO:wandb.run_manager:file/dir modified: D:\\Code\\DRL_udacity\\deep-reinforcement-learning\\p2_continuous-control\\wandb\\run-20191120_144308-rz0f5h3z\\wandb-summary.json\n"
     ]
    },
    {
     "name": "stdout",
     "output_type": "stream",
     "text": [
      "\r",
      "Episode 105\tAverage Score: 27.18\tScore: 36.95\n"
     ]
    },
    {
     "name": "stderr",
     "output_type": "stream",
     "text": [
      "INFO:wandb.run_manager:file/dir modified: D:\\Code\\DRL_udacity\\deep-reinforcement-learning\\p2_continuous-control\\wandb\\run-20191120_144308-rz0f5h3z\\wandb-metadata.json\n",
      "INFO:wandb.run_manager:file/dir modified: D:\\Code\\DRL_udacity\\deep-reinforcement-learning\\p2_continuous-control\\wandb\\run-20191120_144308-rz0f5h3z\\wandb-events.jsonl\n"
     ]
    },
    {
     "name": "stdout",
     "output_type": "stream",
     "text": [
      "\r",
      "Episode 106\tAverage Score: 27.53\tScore: 35.93\n"
     ]
    },
    {
     "name": "stderr",
     "output_type": "stream",
     "text": [
      "INFO:wandb.run_manager:file/dir modified: D:\\Code\\DRL_udacity\\deep-reinforcement-learning\\p2_continuous-control\\wandb\\run-20191120_144308-rz0f5h3z\\wandb-metadata.json\n",
      "INFO:wandb.run_manager:file/dir modified: D:\\Code\\DRL_udacity\\deep-reinforcement-learning\\p2_continuous-control\\wandb\\run-20191120_144308-rz0f5h3z\\wandb-history.jsonl\n",
      "INFO:wandb.run_manager:file/dir modified: D:\\Code\\DRL_udacity\\deep-reinforcement-learning\\p2_continuous-control\\wandb\\run-20191120_144308-rz0f5h3z\\wandb-summary.json\n",
      "INFO:wandb.run_manager:file/dir modified: D:\\Code\\DRL_udacity\\deep-reinforcement-learning\\p2_continuous-control\\wandb\\run-20191120_144308-rz0f5h3z\\wandb-metadata.json\n",
      "INFO:wandb.run_manager:file/dir modified: D:\\Code\\DRL_udacity\\deep-reinforcement-learning\\p2_continuous-control\\wandb\\run-20191120_144308-rz0f5h3z\\wandb-events.jsonl\n"
     ]
    },
    {
     "name": "stdout",
     "output_type": "stream",
     "text": [
      "\r",
      "Episode 107\tAverage Score: 27.89\tScore: 37.39\n"
     ]
    },
    {
     "name": "stderr",
     "output_type": "stream",
     "text": [
      "INFO:wandb.run_manager:file/dir modified: D:\\Code\\DRL_udacity\\deep-reinforcement-learning\\p2_continuous-control\\wandb\\run-20191120_144308-rz0f5h3z\\wandb-history.jsonl\n",
      "INFO:wandb.run_manager:file/dir modified: D:\\Code\\DRL_udacity\\deep-reinforcement-learning\\p2_continuous-control\\wandb\\run-20191120_144308-rz0f5h3z\\wandb-summary.json\n",
      "INFO:wandb.run_manager:file/dir modified: D:\\Code\\DRL_udacity\\deep-reinforcement-learning\\p2_continuous-control\\wandb\\run-20191120_144308-rz0f5h3z\\wandb-metadata.json\n"
     ]
    },
    {
     "name": "stdout",
     "output_type": "stream",
     "text": [
      "\r",
      "Episode 108\tAverage Score: 28.25\tScore: 37.26\n"
     ]
    },
    {
     "name": "stderr",
     "output_type": "stream",
     "text": [
      "INFO:wandb.run_manager:file/dir modified: D:\\Code\\DRL_udacity\\deep-reinforcement-learning\\p2_continuous-control\\wandb\\run-20191120_144308-rz0f5h3z\\wandb-history.jsonl\n",
      "INFO:wandb.run_manager:file/dir modified: D:\\Code\\DRL_udacity\\deep-reinforcement-learning\\p2_continuous-control\\wandb\\run-20191120_144308-rz0f5h3z\\wandb-summary.json\n",
      "INFO:wandb.run_manager:file/dir modified: D:\\Code\\DRL_udacity\\deep-reinforcement-learning\\p2_continuous-control\\wandb\\run-20191120_144308-rz0f5h3z\\wandb-metadata.json\n",
      "INFO:wandb.run_manager:file/dir modified: D:\\Code\\DRL_udacity\\deep-reinforcement-learning\\p2_continuous-control\\wandb\\run-20191120_144308-rz0f5h3z\\wandb-events.jsonl\n",
      "INFO:wandb.run_manager:file/dir modified: D:\\Code\\DRL_udacity\\deep-reinforcement-learning\\p2_continuous-control\\wandb\\run-20191120_144308-rz0f5h3z\\wandb-history.jsonl\n",
      "INFO:wandb.run_manager:file/dir modified: D:\\Code\\DRL_udacity\\deep-reinforcement-learning\\p2_continuous-control\\wandb\\run-20191120_144308-rz0f5h3z\\wandb-summary.json\n"
     ]
    },
    {
     "name": "stdout",
     "output_type": "stream",
     "text": [
      "\r",
      "Episode 109\tAverage Score: 28.62\tScore: 37.73\n"
     ]
    },
    {
     "name": "stderr",
     "output_type": "stream",
     "text": [
      "INFO:wandb.run_manager:file/dir modified: D:\\Code\\DRL_udacity\\deep-reinforcement-learning\\p2_continuous-control\\wandb\\run-20191120_144308-rz0f5h3z\\wandb-metadata.json\n",
      "INFO:wandb.run_manager:file/dir modified: D:\\Code\\DRL_udacity\\deep-reinforcement-learning\\p2_continuous-control\\wandb\\run-20191120_144308-rz0f5h3z\\wandb-metadata.json\n",
      "INFO:wandb.run_manager:file/dir modified: D:\\Code\\DRL_udacity\\deep-reinforcement-learning\\p2_continuous-control\\wandb\\run-20191120_144308-rz0f5h3z\\wandb-events.jsonl\n"
     ]
    },
    {
     "name": "stdout",
     "output_type": "stream",
     "text": [
      "\r",
      "Episode 110\tAverage Score: 28.98\tScore: 37.43\n"
     ]
    },
    {
     "name": "stderr",
     "output_type": "stream",
     "text": [
      "INFO:wandb.run_manager:file/dir modified: D:\\Code\\DRL_udacity\\deep-reinforcement-learning\\p2_continuous-control\\wandb\\run-20191120_144308-rz0f5h3z\\wandb-history.jsonl\n",
      "INFO:wandb.run_manager:file/dir modified: D:\\Code\\DRL_udacity\\deep-reinforcement-learning\\p2_continuous-control\\wandb\\run-20191120_144308-rz0f5h3z\\wandb-summary.json\n",
      "INFO:wandb.run_manager:file/dir modified: D:\\Code\\DRL_udacity\\deep-reinforcement-learning\\p2_continuous-control\\wandb\\run-20191120_144308-rz0f5h3z\\wandb-metadata.json\n"
     ]
    },
    {
     "name": "stdout",
     "output_type": "stream",
     "text": [
      "\r",
      "Episode 111\tAverage Score: 29.34\tScore: 37.38\n"
     ]
    },
    {
     "name": "stderr",
     "output_type": "stream",
     "text": [
      "INFO:wandb.run_manager:file/dir modified: D:\\Code\\DRL_udacity\\deep-reinforcement-learning\\p2_continuous-control\\wandb\\run-20191120_144308-rz0f5h3z\\wandb-history.jsonl\n",
      "INFO:wandb.run_manager:file/dir modified: D:\\Code\\DRL_udacity\\deep-reinforcement-learning\\p2_continuous-control\\wandb\\run-20191120_144308-rz0f5h3z\\wandb-summary.json\n",
      "INFO:wandb.run_manager:file/dir modified: D:\\Code\\DRL_udacity\\deep-reinforcement-learning\\p2_continuous-control\\wandb\\run-20191120_144308-rz0f5h3z\\wandb-events.jsonl\n",
      "INFO:wandb.run_manager:file/dir modified: D:\\Code\\DRL_udacity\\deep-reinforcement-learning\\p2_continuous-control\\wandb\\run-20191120_144308-rz0f5h3z\\wandb-metadata.json\n"
     ]
    },
    {
     "name": "stdout",
     "output_type": "stream",
     "text": [
      "\r",
      "Episode 112\tAverage Score: 29.69\tScore: 37.48\n"
     ]
    },
    {
     "name": "stderr",
     "output_type": "stream",
     "text": [
      "INFO:wandb.run_manager:file/dir modified: D:\\Code\\DRL_udacity\\deep-reinforcement-learning\\p2_continuous-control\\wandb\\run-20191120_144308-rz0f5h3z\\wandb-history.jsonl\n",
      "INFO:wandb.run_manager:file/dir modified: D:\\Code\\DRL_udacity\\deep-reinforcement-learning\\p2_continuous-control\\wandb\\run-20191120_144308-rz0f5h3z\\wandb-summary.json\n",
      "INFO:wandb.run_manager:file/dir modified: D:\\Code\\DRL_udacity\\deep-reinforcement-learning\\p2_continuous-control\\wandb\\run-20191120_144308-rz0f5h3z\\wandb-metadata.json\n",
      "INFO:wandb.run_manager:file/dir modified: D:\\Code\\DRL_udacity\\deep-reinforcement-learning\\p2_continuous-control\\wandb\\run-20191120_144308-rz0f5h3z\\wandb-events.jsonl\n",
      "INFO:wandb.run_manager:file/dir modified: D:\\Code\\DRL_udacity\\deep-reinforcement-learning\\p2_continuous-control\\wandb\\run-20191120_144308-rz0f5h3z\\wandb-metadata.json\n"
     ]
    },
    {
     "name": "stdout",
     "output_type": "stream",
     "text": [
      "\r",
      "Episode 113\tAverage Score: 30.05\tScore: 36.86\n",
      "\r",
      "Episode 113\tAverage Score: 30.05\n"
     ]
    },
    {
     "name": "stderr",
     "output_type": "stream",
     "text": [
      "INFO:wandb.run_manager:file/dir modified: D:\\Code\\DRL_udacity\\deep-reinforcement-learning\\p2_continuous-control\\wandb\\run-20191120_144308-rz0f5h3z\\wandb-history.jsonl\n",
      "INFO:wandb.run_manager:file/dir modified: D:\\Code\\DRL_udacity\\deep-reinforcement-learning\\p2_continuous-control\\wandb\\run-20191120_144308-rz0f5h3z\\wandb-summary.json\n",
      "INFO:wandb.run_manager:file/dir modified: D:\\Code\\DRL_udacity\\deep-reinforcement-learning\\p2_continuous-control\\wandb\\run-20191120_144308-rz0f5h3z\\wandb-metadata.json\n"
     ]
    },
    {
     "name": "stdout",
     "output_type": "stream",
     "text": [
      "\r",
      "Episode 114\tAverage Score: 30.41\tScore: 36.63\n",
      "\r",
      "Episode 114\tAverage Score: 30.41\n"
     ]
    },
    {
     "name": "stderr",
     "output_type": "stream",
     "text": [
      "INFO:wandb.run_manager:file/dir modified: D:\\Code\\DRL_udacity\\deep-reinforcement-learning\\p2_continuous-control\\wandb\\run-20191120_144308-rz0f5h3z\\wandb-history.jsonl\n",
      "INFO:wandb.run_manager:file/dir modified: D:\\Code\\DRL_udacity\\deep-reinforcement-learning\\p2_continuous-control\\wandb\\run-20191120_144308-rz0f5h3z\\wandb-summary.json\n",
      "INFO:wandb.run_manager:file/dir modified: D:\\Code\\DRL_udacity\\deep-reinforcement-learning\\p2_continuous-control\\wandb\\run-20191120_144308-rz0f5h3z\\wandb-events.jsonl\n",
      "INFO:wandb.run_manager:file/dir modified: D:\\Code\\DRL_udacity\\deep-reinforcement-learning\\p2_continuous-control\\wandb\\run-20191120_144308-rz0f5h3z\\wandb-metadata.json\n"
     ]
    },
    {
     "name": "stdout",
     "output_type": "stream",
     "text": [
      "\r",
      "Episode 115\tAverage Score: 30.77\tScore: 36.88\n",
      "\r",
      "Episode 115\tAverage Score: 30.77\n"
     ]
    },
    {
     "name": "stderr",
     "output_type": "stream",
     "text": [
      "INFO:wandb.run_manager:file/dir modified: D:\\Code\\DRL_udacity\\deep-reinforcement-learning\\p2_continuous-control\\wandb\\run-20191120_144308-rz0f5h3z\\wandb-history.jsonl\n",
      "INFO:wandb.run_manager:file/dir modified: D:\\Code\\DRL_udacity\\deep-reinforcement-learning\\p2_continuous-control\\wandb\\run-20191120_144308-rz0f5h3z\\wandb-summary.json\n",
      "INFO:wandb.run_manager:file/dir modified: D:\\Code\\DRL_udacity\\deep-reinforcement-learning\\p2_continuous-control\\wandb\\run-20191120_144308-rz0f5h3z\\wandb-metadata.json\n",
      "INFO:wandb.run_manager:file/dir modified: D:\\Code\\DRL_udacity\\deep-reinforcement-learning\\p2_continuous-control\\wandb\\run-20191120_144308-rz0f5h3z\\wandb-events.jsonl\n",
      "INFO:wandb.run_manager:file/dir modified: D:\\Code\\DRL_udacity\\deep-reinforcement-learning\\p2_continuous-control\\wandb\\run-20191120_144308-rz0f5h3z\\wandb-metadata.json\n"
     ]
    },
    {
     "name": "stdout",
     "output_type": "stream",
     "text": [
      "\r",
      "Episode 116\tAverage Score: 31.12\tScore: 37.21\n",
      "\r",
      "Episode 116\tAverage Score: 31.12\n"
     ]
    },
    {
     "ename": "NameError",
     "evalue": "name 'average_score' is not defined",
     "output_type": "error",
     "traceback": [
      "\u001b[1;31m---------------------------------------------------------------------------\u001b[0m",
      "\u001b[1;31mNameError\u001b[0m                                 Traceback (most recent call last)",
      "\u001b[1;32m<ipython-input-59-4ea63edcd573>\u001b[0m in \u001b[0;36m<module>\u001b[1;34m\u001b[0m\n\u001b[1;32m----> 1\u001b[1;33m \u001b[0mscores\u001b[0m \u001b[1;33m=\u001b[0m \u001b[0mtrain_ddpg\u001b[0m\u001b[1;33m(\u001b[0m\u001b[1;33m)\u001b[0m\u001b[1;33m\u001b[0m\u001b[0m\n\u001b[0m\u001b[0;32m      2\u001b[0m \u001b[1;33m\u001b[0m\u001b[0m\n\u001b[0;32m      3\u001b[0m \u001b[0mfig\u001b[0m \u001b[1;33m=\u001b[0m \u001b[0mplt\u001b[0m\u001b[1;33m.\u001b[0m\u001b[0mfigure\u001b[0m\u001b[1;33m(\u001b[0m\u001b[1;33m)\u001b[0m\u001b[1;33m\u001b[0m\u001b[0m\n\u001b[0;32m      4\u001b[0m \u001b[0max\u001b[0m \u001b[1;33m=\u001b[0m \u001b[0mfig\u001b[0m\u001b[1;33m.\u001b[0m\u001b[0madd_subplot\u001b[0m\u001b[1;33m(\u001b[0m\u001b[1;36m111\u001b[0m\u001b[1;33m)\u001b[0m\u001b[1;33m\u001b[0m\u001b[0m\n\u001b[0;32m      5\u001b[0m \u001b[0mplt\u001b[0m\u001b[1;33m.\u001b[0m\u001b[0mplot\u001b[0m\u001b[1;33m(\u001b[0m\u001b[0mnp\u001b[0m\u001b[1;33m.\u001b[0m\u001b[0marange\u001b[0m\u001b[1;33m(\u001b[0m\u001b[1;36m1\u001b[0m\u001b[1;33m,\u001b[0m \u001b[0mlen\u001b[0m\u001b[1;33m(\u001b[0m\u001b[0mscores\u001b[0m\u001b[1;33m)\u001b[0m\u001b[1;33m+\u001b[0m\u001b[1;36m1\u001b[0m\u001b[1;33m)\u001b[0m\u001b[1;33m,\u001b[0m \u001b[0mscores\u001b[0m\u001b[1;33m)\u001b[0m\u001b[1;33m\u001b[0m\u001b[0m\n",
      "\u001b[1;32m<ipython-input-58-247ec350ace5>\u001b[0m in \u001b[0;36mtrain_ddpg\u001b[1;34m(n_episodes, max_t, checkpoint_name)\u001b[0m\n\u001b[0;32m     64\u001b[0m \u001b[1;33m\u001b[0m\u001b[0m\n\u001b[0;32m     65\u001b[0m         \u001b[1;32mif\u001b[0m \u001b[0mavg_score\u001b[0m \u001b[1;33m>=\u001b[0m \u001b[1;36m31.0\u001b[0m\u001b[1;33m:\u001b[0m\u001b[1;33m\u001b[0m\u001b[0m\n\u001b[1;32m---> 66\u001b[1;33m             \u001b[0mprint\u001b[0m\u001b[1;33m(\u001b[0m\u001b[1;34m'\\nEnvironment solved in {:d} episodes!\\tAverage score: {:.2f}'\u001b[0m\u001b[1;33m.\u001b[0m\u001b[0mformat\u001b[0m\u001b[1;33m(\u001b[0m\u001b[0mi_episode\u001b[0m\u001b[1;33m,\u001b[0m \u001b[0maverage_score\u001b[0m\u001b[1;33m)\u001b[0m\u001b[1;33m)\u001b[0m\u001b[1;33m\u001b[0m\u001b[0m\n\u001b[0m\u001b[0;32m     67\u001b[0m             \u001b[1;32mbreak\u001b[0m\u001b[1;33m\u001b[0m\u001b[0m\n\u001b[0;32m     68\u001b[0m \u001b[1;33m\u001b[0m\u001b[0m\n",
      "\u001b[1;31mNameError\u001b[0m: name 'average_score' is not defined"
     ]
    },
    {
     "name": "stderr",
     "output_type": "stream",
     "text": [
      "INFO:wandb.run_manager:shutting down system stats and metadata service\n",
      "INFO:wandb.run_manager:stopping streaming files and file change observer\n",
      "INFO:wandb.run_manager:file/dir modified: D:\\Code\\DRL_udacity\\deep-reinforcement-learning\\p2_continuous-control\\wandb\\run-20191120_144308-rz0f5h3z\\wandb-metadata.json\n",
      "INFO:wandb.run_manager:file/dir modified: D:\\Code\\DRL_udacity\\deep-reinforcement-learning\\p2_continuous-control\\wandb\\run-20191120_144308-rz0f5h3z\\wandb-history.jsonl\n",
      "INFO:wandb.run_manager:file/dir modified: D:\\Code\\DRL_udacity\\deep-reinforcement-learning\\p2_continuous-control\\wandb\\run-20191120_144308-rz0f5h3z\\wandb-summary.json\n",
      "INFO:wandb.run_manager:file/dir modified: D:\\Code\\DRL_udacity\\deep-reinforcement-learning\\p2_continuous-control\\wandb\\run-20191120_144308-rz0f5h3z\\wandb-events.jsonl\n"
     ]
    }
   ],
   "source": [
    "scores = train_ddpg()\n",
    "\n",
    "fig = plt.figure()\n",
    "ax = fig.add_subplot(111)\n",
    "plt.plot(np.arange(1, len(scores)+1), scores)\n",
    "plt.ylabel('Score')\n",
    "plt.xlabel('Episode #')\n",
    "plt.show()"
   ]
  },
  {
   "cell_type": "markdown",
   "metadata": {},
   "source": [
    "## Observe AI"
   ]
  },
  {
   "cell_type": "code",
   "execution_count": null,
   "metadata": {},
   "outputs": [],
   "source": [
    "load_agent(agent, 'checkpoint')"
   ]
  },
  {
   "cell_type": "code",
   "execution_count": 61,
   "metadata": {},
   "outputs": [
    {
     "name": "stdout",
     "output_type": "stream",
     "text": [
      "Total score (averaged over agents) this episode: 37.15949916942045\n"
     ]
    }
   ],
   "source": [
    "env_info = env.reset(train_mode=False)[brain_name]     # reset the environment    \n",
    "states = env_info.vector_observations                  # get the current state (for each agent)\n",
    "score = np.zeros(num_agents)                          # initialize the score (for each agent)\n",
    "\n",
    "while True:\n",
    "\n",
    "    # Mr AI, what action should we take?\n",
    "    actions = agent.act(states)\n",
    "\n",
    "    # Take the action in the environment\n",
    "    env_info = env.step(actions)[brain_name]\n",
    "    next_states = env_info.vector_observations\n",
    "    rewards = env_info.rewards\n",
    "    dones = env_info.local_done\n",
    "\n",
    "    # Mr AI, here are the results of your action, and the next state\n",
    "    # agent.step(states, actions, rewards, next_states, dones)\n",
    "\n",
    "    # Loop around & keep track of score\n",
    "    states = next_states\n",
    "    score += rewards\n",
    "\n",
    "    if np.any(dones): # if any agent is at it's completion\n",
    "        break\n",
    "print('Total score (averaged over agents) this episode: {}'.format(np.mean(score)))"
   ]
  },
  {
   "cell_type": "code",
   "execution_count": null,
   "metadata": {},
   "outputs": [],
   "source": [
    "env.close()"
   ]
  }
 ],
 "metadata": {
  "kernelspec": {
   "display_name": "Python 3",
   "language": "python",
   "name": "python3"
  },
  "language_info": {
   "codemirror_mode": {
    "name": "ipython",
    "version": 3
   },
   "file_extension": ".py",
   "mimetype": "text/x-python",
   "name": "python",
   "nbconvert_exporter": "python",
   "pygments_lexer": "ipython3",
   "version": "3.6.2"
  }
 },
 "nbformat": 4,
 "nbformat_minor": 4
}